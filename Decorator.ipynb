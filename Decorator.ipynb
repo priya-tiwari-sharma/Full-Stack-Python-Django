{
 "cells": [
  {
   "cell_type": "markdown",
   "metadata": {},
   "source": [
    "# Decorator\n",
    "A decorator is a design pattern in Python that allows a user to add new functionality to an existing object without modifying its structure.\n",
    "Decorators are usually called before the definition of a function you want to decorate"
   ]
  },
  {
   "cell_type": "markdown",
   "metadata": {},
   "source": [
    "First we need to understand some things before understand decorator"
   ]
  },
  {
   "cell_type": "markdown",
   "metadata": {},
   "source": [
    "#### 1. Assigning Functions to Variables\n",
    "we create a function that will add one to a number whenever it is called.\n",
    "We'll then assign the function to a variable and use this variable to call the function."
   ]
  },
  {
   "cell_type": "code",
   "execution_count": 2,
   "metadata": {},
   "outputs": [],
   "source": [
    "def Function1():\n",
    "    print(\"hello world\")\n",
    "\n",
    "func1=Function1 # Assign function into variable func1"
   ]
  },
  {
   "cell_type": "code",
   "execution_count": 4,
   "metadata": {},
   "outputs": [
    {
     "name": "stdout",
     "output_type": "stream",
     "text": [
      "hello world\n"
     ]
    }
   ],
   "source": [
    "func1()"
   ]
  },
  {
   "cell_type": "code",
   "execution_count": 5,
   "metadata": {},
   "outputs": [],
   "source": [
    "del Function1 # Delete the \"Function1\" function"
   ]
  },
  {
   "cell_type": "code",
   "execution_count": 6,
   "metadata": {},
   "outputs": [
    {
     "name": "stdout",
     "output_type": "stream",
     "text": [
      "hello world\n"
     ]
    }
   ],
   "source": [
    "func1()   # it prints  becoz func1 holds the copy of Funtion1"
   ]
  },
  {
   "cell_type": "code",
   "execution_count": 7,
   "metadata": {},
   "outputs": [
    {
     "data": {
      "text/plain": [
       "6"
      ]
     },
     "execution_count": 7,
     "metadata": {},
     "output_type": "execute_result"
    }
   ],
   "source": [
    "# Example1\n",
    "def plus_one(num):\n",
    "    return num+1\n",
    "add_one=plus_one\n",
    "add_one(5)"
   ]
  },
  {
   "cell_type": "markdown",
   "metadata": {},
   "source": [
    "#### 2. Defining Functions Inside other Functions\n",
    "How you can define a function inside another function in Python"
   ]
  },
  {
   "cell_type": "code",
   "execution_count": 2,
   "metadata": {},
   "outputs": [
    {
     "data": {
      "text/plain": [
       "5"
      ]
     },
     "execution_count": 2,
     "metadata": {},
     "output_type": "execute_result"
    }
   ],
   "source": [
    "\n",
    "def plus_one(num):\n",
    "    def add_one(num):\n",
    "        return num+1\n",
    "    \n",
    "    result=add_one(num)\n",
    "    return result\n",
    "\n",
    "\n",
    "plus_one(4)"
   ]
  },
  {
   "cell_type": "markdown",
   "metadata": {},
   "source": [
    "#### 3. Passing Functions as Arguments to other Functions\n",
    "Functions can also be passed as parameters to other function."
   ]
  },
  {
   "cell_type": "code",
   "execution_count": 15,
   "metadata": {},
   "outputs": [
    {
     "name": "stdout",
     "output_type": "stream",
     "text": [
      "Hello World\n"
     ]
    }
   ],
   "source": [
    "def excecute(func):\n",
    "    func(\"Hello World\")   # print(\"Hello World\")\n",
    "    \n",
    "excecute(print)"
   ]
  },
  {
   "cell_type": "code",
   "execution_count": 3,
   "metadata": {},
   "outputs": [
    {
     "data": {
      "text/plain": [
       "6"
      ]
     },
     "execution_count": 3,
     "metadata": {},
     "output_type": "execute_result"
    }
   ],
   "source": [
    "# Example-1\n",
    "def plus_one(num):\n",
    "    return num+1\n",
    "\n",
    "def function_call(function):\n",
    "    number_to_add=5\n",
    "    return function(number_to_add)\n",
    "\n",
    "\n",
    "function_call(plus_one)\n"
   ]
  },
  {
   "cell_type": "markdown",
   "metadata": {},
   "source": [
    "#### 4. Functions Returning other Functions\n",
    "A function can also generate another function\n"
   ]
  },
  {
   "cell_type": "code",
   "execution_count": 14,
   "metadata": {},
   "outputs": [
    {
     "name": "stdout",
     "output_type": "stream",
     "text": [
      "<built-in function sum>\n"
     ]
    }
   ],
   "source": [
    "def Func_return(num):\n",
    "    if num==0:\n",
    "        return print\n",
    "    elif num==1:\n",
    "        return sum\n",
    "\n",
    "a=Func_return(1)\n",
    "print(a)"
   ]
  },
  {
   "cell_type": "markdown",
   "metadata": {},
   "source": [
    "### Decorator\n"
   ]
  },
  {
   "cell_type": "markdown",
   "metadata": {},
   "source": [
    "#### Let's go ahead , and create our first decorator \n",
    "\n"
   ]
  },
  {
   "cell_type": "code",
   "execution_count": 33,
   "metadata": {},
   "outputs": [
    {
     "name": "stdout",
     "output_type": "stream",
     "text": [
      "Hello World\n"
     ]
    }
   ],
   "source": [
    "def outer_func(func):      # works as a decorator\n",
    "    def inner_func():\n",
    "        print(\"statement 1\")\n",
    "        func()\n",
    "        print(\"statement 2\")\n",
    "    return inner_func\n",
    "\n",
    "def function():\n",
    "    print(\"Hello World\")\n",
    "\n",
    "    \n",
    "func_obj=function\n",
    "func_obj()"
   ]
  },
  {
   "cell_type": "code",
   "execution_count": 35,
   "metadata": {},
   "outputs": [
    {
     "name": "stdout",
     "output_type": "stream",
     "text": [
      "statement 1\n",
      "Hello World\n",
      "statement 2\n"
     ]
    }
   ],
   "source": [
    "funtion=outer_func(function)\n",
    "funtion()"
   ]
  },
  {
   "cell_type": "code",
   "execution_count": 36,
   "metadata": {},
   "outputs": [
    {
     "name": "stdout",
     "output_type": "stream",
     "text": [
      "statement 1\n",
      "Hello World\n",
      "statement 2\n"
     ]
    }
   ],
   "source": [
    "def outer_func(func):      # works as a decorator\n",
    "    def inner_func():\n",
    "        print(\"statement 1\")\n",
    "        func()\n",
    "        print(\"statement 2\")\n",
    "    return inner_func\n",
    "@outer_func\n",
    "def function():\n",
    "    print(\"Hello World\")\n",
    "\n",
    "    \n",
    "# deorator_obj=outer_func(function)\n",
    "function()"
   ]
  },
  {
   "cell_type": "markdown",
   "metadata": {},
   "source": [
    "### Applying Multiple Decorators to a Single Function\n",
    "We can use multiple decorators to a single function. However, the decorators will be applied in the order that we've called them. Below  We'll  apply the uppercase_decorator and split_string decorator to a single function."
   ]
  },
  {
   "cell_type": "code",
   "execution_count": 48,
   "metadata": {},
   "outputs": [],
   "source": [
    "# we create a simple decorator that will convert a sentence to uppercase \n",
    "\n",
    "# decorator 1\n",
    "\n",
    "def uppercase_decortor(function):\n",
    "    def wrapper():\n",
    "        func=function()\n",
    "        make_uppercase=func.upper()\n",
    "        return make_uppercase\n",
    "    return wrapper"
   ]
  },
  {
   "cell_type": "code",
   "execution_count": 49,
   "metadata": {},
   "outputs": [],
   "source": [
    "# decorator 2 \n",
    "def split_string(function):\n",
    "    def wrapper():\n",
    "        func = function()\n",
    "        splitted_string = func.split()\n",
    "        return splitted_string\n",
    "\n",
    "    return wrapper"
   ]
  },
  {
   "cell_type": "code",
   "execution_count": 50,
   "metadata": {},
   "outputs": [
    {
     "data": {
      "text/plain": [
       "'HELLO THERE'"
      ]
     },
     "execution_count": 50,
     "metadata": {},
     "output_type": "execute_result"
    }
   ],
   "source": [
    "def say_hi():\n",
    "    return \"hello there\"\n",
    "\n",
    "decorate=uppercase_decortor(say_hi)\n",
    "decorate()"
   ]
  },
  {
   "cell_type": "code",
   "execution_count": 54,
   "metadata": {},
   "outputs": [
    {
     "data": {
      "text/plain": [
       "['HELLO', 'THERE']"
      ]
     },
     "execution_count": 54,
     "metadata": {},
     "output_type": "execute_result"
    }
   ],
   "source": [
    "@split_string\n",
    "@uppercase_decortor\n",
    "\n",
    "def say_hi():\n",
    "    return \"hello there\"\n",
    "say_hi()"
   ]
  },
  {
   "cell_type": "code",
   "execution_count": null,
   "metadata": {},
   "outputs": [],
   "source": []
  },
  {
   "cell_type": "code",
   "execution_count": null,
   "metadata": {},
   "outputs": [],
   "source": []
  }
 ],
 "metadata": {
  "kernelspec": {
   "display_name": "Python 3",
   "language": "python",
   "name": "python3"
  },
  "language_info": {
   "codemirror_mode": {
    "name": "ipython",
    "version": 3
   },
   "file_extension": ".py",
   "mimetype": "text/x-python",
   "name": "python",
   "nbconvert_exporter": "python",
   "pygments_lexer": "ipython3",
   "version": "3.8.3"
  }
 },
 "nbformat": 4,
 "nbformat_minor": 4
}
