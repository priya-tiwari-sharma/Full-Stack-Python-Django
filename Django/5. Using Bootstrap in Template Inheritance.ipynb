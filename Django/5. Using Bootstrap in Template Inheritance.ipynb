{
 "cells": [
  {
   "cell_type": "markdown",
   "metadata": {},
   "source": [
    "# base.html\n",
    "Visit __[Bootstrap](https://getbootstrap.com/docs/4.3/getting-started/introduction/)__\n"
   ]
  },
  {
   "cell_type": "markdown",
   "metadata": {},
   "source": [
    "### CSS"
   ]
  },
  {
   "cell_type": "code",
   "execution_count": null,
   "metadata": {},
   "outputs": [],
   "source": [
    "Copy-paste the stylesheet <link> into your <head> before all other stylesheets to load our CSS.\n",
    "\n",
    "<link rel=\"stylesheet\" href=\"https://stackpath.bootstrapcdn.com/bootstrap/4.3.1/css/bootstrap.min.css\" integrity=\"sha384-ggOyR0iXCbMQv3Xipma34MD+dH/1fQ784/j6cY/iJTQUOhcWr7x9JvoRxT2MZw1T\" crossorigin=\"anonymous\">\"\"\""
   ]
  },
  {
   "cell_type": "markdown",
   "metadata": {},
   "source": [
    "### JS"
   ]
  },
  {
   "cell_type": "code",
   "execution_count": null,
   "metadata": {},
   "outputs": [],
   "source": [
    "\n",
    "Many of our components require the use of JavaScript to function. Specifically, they require jQuery, Popper.js, and our own JavaScript plugins. Place the following <script>s near the end of your pages, right before the closing </body> tag, to enable them. jQuery must come first, then Popper.js, and  JavaScript plugins.\n",
    "\n",
    "<script src=\"https://code.jquery.com/jquery-3.3.1.slim.min.js\" integrity=\"sha384-q8i/X+965DzO0rT7abK41JStQIAqVgRVzpbzo5smXKp4YfRvH+8abtTE1Pi6jizo\" crossorigin=\"anonymous\"></script>\n",
    "\n",
    "<script src=\"https://cdnjs.cloudflare.com/ajax/libs/popper.js/1.14.7/umd/popper.min.js\" integrity=\"sha384-UO2eT0CpHqdSJQ6hJty5KVphtPhzWj9WO1clHTMGa3JDZwrnQq4sF86dIHNDz0W1\" crossorigin=\"anonymous\"></script>\n",
    "\n",
    "<script src=\"https://stackpath.bootstrapcdn.com/bootstrap/4.3.1/js/bootstrap.min.js\" integrity=\"sha384-JjSmVgyd0p3pXB1rRibZUAYoIIy6OrQ6VrjIEaFf/nJGzIxFDsf4x0xIM+B07jRM\" crossorigin=\"anonymous\"></script>"
   ]
  },
  {
   "cell_type": "markdown",
   "metadata": {},
   "source": [
    "Be sure to have your pages set up with the latest design and development standards. That means using an HTML5 doctype and including a viewport meta tag for proper responsive behaviors. Put it all together and your pages should look like this:"
   ]
  },
  {
   "cell_type": "code",
   "execution_count": null,
   "metadata": {},
   "outputs": [],
   "source": [
    "\n",
    "<!DOCTYPE html>\n",
    "<html lang=\"en\">\n",
    "    <head>\n",
    "        <meta charset=\"UTF-8\">\n",
    "         <meta name=\"viewport\" content=\"width=device-width, initial-scale=1, shrink-to-fit=no\">\n",
    "\n",
    "        <!-- Bootstrap CSS -->\n",
    "        <link rel=\"stylesheet\" href=\"https://stackpath.bootstrapcdn.com/bootstrap/4.5.0/css/bootstrap.min.css\"               integrity=\"sha384-9aIt2nRpC12Uk9gS9baDl411NQApFmC26EwAOH8WgZl5MYYxFfc+NcPb1dKGj7Sk\" crossorigin=\"anonymous\"> \n",
    "        <meta name=\"viewport\" content=\"width=device-width, initial-scale=1\">\n",
    "        <link href=\"css/style.css\" rel=\"stylesheet\">\n",
    "    </head>\n",
    "    <body>\n",
    "        <h1>Hello World</h1>\n",
    "      <!-- Optional JavaScript -->\n",
    "      <!-- jQuery first, then Popper.js, then Bootstrap JS -->\n",
    "      <script src=\"https://code.jquery.com/jquery-3.5.1.slim.min.js\" integrity=\"sha384-DfXdz2htPH0lsSSs5nCTpuj/zy4C+OGpamoFVy38MVBnE+IbbVYUew+OrCXaRkfj\" crossorigin=\"anonymous\"></script>\n",
    "      <script src=\"https://cdn.jsdelivr.net/npm/popper.js@1.16.0/dist/umd/popper.min.js\" integrity=\"sha384-Q6E9RHvbIyZFJoft+2mJbHaEWldlvI9IOYy5n3zV9zzTtmI3UksdQRVvoxMfooAo\" crossorigin=\"anonymous\"></script>\n",
    "      <script src=\"https://stackpath.bootstrapcdn.com/bootstrap/4.5.0/js/bootstrap.min.js\" integrity=\"sha384-OgVRvuATP1z7JjHLkuOU7Xw704+h835Lr+6QL9UvYjZE3Ipu6Tp75j7Bh/kR0JKI\" crossorigin=\"anonymous\"></script> \n",
    "\n",
    "\n",
    "    </body>\n",
    "</html>\n"
   ]
  },
  {
   "cell_type": "code",
   "execution_count": null,
   "metadata": {},
   "outputs": [],
   "source": [
    "Add load static at the top. Remove <title> and add block title instead. Remove <h1> and add add block content instead.\n",
    "    \n",
    "Let’s add a navigation bar into base.html from bootstrap (https://getbootstrap.com/docs/4.3/components/navbar/). Choose one navbar you like. Copy and Paste the navbar code into <body> tag. Then customize it according to your requirements."
   ]
  },
  {
   "cell_type": "code",
   "execution_count": null,
   "metadata": {},
   "outputs": [],
   "source": [
    "{% load static %}\n",
    "\n",
    "<!DOCTYPE html>\n",
    "<html lang=\"en\">\n",
    "    <head>\n",
    "      {% block title %}\n",
    "        \n",
    "      {% endblock title %}\n",
    "      \n",
    "        <meta charset=\"UTF-8\">\n",
    "         <meta name=\"viewport\" content=\"width=device-width, initial-scale=1, shrink-to-fit=no\">\n",
    "\n",
    "        <!-- Bootstrap CSS -->\n",
    "        <link rel=\"stylesheet\" href=\"https://stackpath.bootstrapcdn.com/bootstrap/4.5.0/css/bootstrap.min.css\" integrity=\"sha384-9aIt2nRpC12Uk9gS9baDl411NQApFmC26EwAOH8WgZl5MYYxFfc+NcPb1dKGj7Sk\" crossorigin=\"anonymous\"> \n",
    "\n",
    "        <meta name=\"viewport\" content=\"width=device-width, initial-scale=1\">\n",
    "        <link href=\"css/style.css\" rel=\"stylesheet\">\n",
    "    </head>\n",
    "    <body>\n",
    "\n",
    "\n",
    "      <nav class=\"navbar navbar-expand-lg navbar-light bg-light\">\n",
    "        <div class=\"container-fluid\">\n",
    "          <a class=\"navbar-brand\" href=\"#\">Navbar</a>\n",
    "          <button class=\"navbar-toggler\" type=\"button\" data-bs-toggle=\"collapse\" data-bs-target=\"#navbarSupportedContent\" aria-controls=\"navbarSupportedContent\" aria-expanded=\"false\" aria-label=\"Toggle navigation\">\n",
    "            <span class=\"navbar-toggler-icon\"></span>\n",
    "          </button>\n",
    "          <div class=\"collapse navbar-collapse\" id=\"navbarSupportedContent\">\n",
    "            <ul class=\"navbar-nav me-auto mb-2 mb-lg-0\">\n",
    "              <li class=\"nav-item\">\n",
    "                <a class=\"nav-link active\" aria-current=\"page\" href=\"#\">Home</a>\n",
    "              </li>\n",
    "              <li class=\"nav-item\">\n",
    "                <a class=\"nav-link\" href=\"#\">Link</a>\n",
    "              </li>\n",
    "              <li class=\"nav-item dropdown\">\n",
    "                <a class=\"nav-link dropdown-toggle\" href=\"#\" id=\"navbarDropdown\" role=\"button\" data-bs-toggle=\"dropdown\" aria-expanded=\"false\">\n",
    "                  Dropdown\n",
    "                </a>\n",
    "                <ul class=\"dropdown-menu\" aria-labelledby=\"navbarDropdown\">\n",
    "                  <li><a class=\"dropdown-item\" href=\"#\">Action</a></li>\n",
    "                  <li><a class=\"dropdown-item\" href=\"#\">Another action</a></li>\n",
    "                  <li><hr class=\"dropdown-divider\"></li>\n",
    "                  <li><a class=\"dropdown-item\" href=\"#\">Something else here</a></li>\n",
    "                </ul>\n",
    "              </li>\n",
    "              <li class=\"nav-item\">\n",
    "                <a class=\"nav-link disabled\" href=\"#\" tabindex=\"-1\" aria-disabled=\"true\">Disabled</a>\n",
    "              </li>\n",
    "            </ul>\n",
    "            <form class=\"d-flex\">\n",
    "              <input class=\"form-control me-2\" type=\"search\" placeholder=\"Search\" aria-label=\"Search\">\n",
    "              <button class=\"btn btn-outline-success\" type=\"submit\">Search</button>\n",
    "            </form>\n",
    "          </div>\n",
    "        </div>\n",
    "      </nav>\n",
    "      <!-- Optional JavaScript -->\n",
    "      <!-- jQuery first, then Popper.js, then Bootstrap JS -->\n",
    "      <script src=\"https://code.jquery.com/jquery-3.5.1.slim.min.js\" integrity=\"sha384-DfXdz2htPH0lsSSs5nCTpuj/zy4C+OGpamoFVy38MVBnE+IbbVYUew+OrCXaRkfj\" crossorigin=\"anonymous\"></script>\n",
    "      <script src=\"https://cdn.jsdelivr.net/npm/popper.js@1.16.0/dist/umd/popper.min.js\" integrity=\"sha384-Q6E9RHvbIyZFJoft+2mJbHaEWldlvI9IOYy5n3zV9zzTtmI3UksdQRVvoxMfooAo\" crossorigin=\"anonymous\"></script>\n",
    "      <script src=\"https://stackpath.bootstrapcdn.com/bootstrap/4.5.0/js/bootstrap.min.js\" integrity=\"sha384-OgVRvuATP1z7JjHLkuOU7Xw704+h835Lr+6QL9UvYjZE3Ipu6Tp75j7Bh/kR0JKI\" crossorigin=\"anonymous\"></script> \n",
    "   \n",
    "{% block content %}\n",
    "  \n",
    "{% endblock content %}\n",
    "\n",
    "    </body>\n",
    "</html>\n",
    "\n"
   ]
  },
  {
   "cell_type": "markdown",
   "metadata": {},
   "source": [
    "Now we can just extend any template to our base template by simply adding {% extends ‘base.html’ %} at the top of a template. I will extend my index.html template to our base and see how it looks.\n",
    "\n",
    "## index.html"
   ]
  },
  {
   "cell_type": "code",
   "execution_count": null,
   "metadata": {},
   "outputs": [],
   "source": [
    "{% extends \"base.html\" %}\n",
    "\n",
    "{% block title %}\n",
    "  <title>Index Page</title>\n",
    "{% endblock title %}  \n",
    "\n",
    "\n",
    "{% block content %}\n",
    "<div class=\"container\">\n",
    "        {{welcome_msg}}\n",
    "    </div>\n",
    "{% endblock content %}"
   ]
  },
  {
   "cell_type": "markdown",
   "metadata": {},
   "source": [
    "Now Your index.html page look like this in computer display\n",
    "\n",
    "![django](https://djangocms-cascade.readthedocs.io/en/latest/_images/navbar.png)"
   ]
  },
  {
   "cell_type": "markdown",
   "metadata": {},
   "source": [
    "on mobile devices\n",
    "\n",
    "![django](https://djangocms-cascade.readthedocs.io/en/latest/_images/navbar-mobile.png)"
   ]
  },
  {
   "cell_type": "code",
   "execution_count": null,
   "metadata": {},
   "outputs": [],
   "source": []
  }
 ],
 "metadata": {
  "kernelspec": {
   "display_name": "Python 3",
   "language": "python",
   "name": "python3"
  },
  "language_info": {
   "codemirror_mode": {
    "name": "ipython",
    "version": 3
   },
   "file_extension": ".py",
   "mimetype": "text/x-python",
   "name": "python",
   "nbconvert_exporter": "python",
   "pygments_lexer": "ipython3",
   "version": "3.8.3"
  }
 },
 "nbformat": 4,
 "nbformat_minor": 4
}
