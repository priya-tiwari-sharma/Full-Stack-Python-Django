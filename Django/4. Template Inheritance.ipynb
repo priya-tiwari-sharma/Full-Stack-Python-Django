{
 "cells": [
  {
   "cell_type": "markdown",
   "metadata": {},
   "source": [
    "# 1. Creating Template Folder  in App\n",
    "Step 1: Right click on the app folder.\n",
    "\n",
    "Step 2: Click on 'new'.\n",
    "\n",
    "Step 3: Click on the \"Directory\" and name the directory as \"templates\" then press Enter.\n",
    "\n",
    "Step 4: Create another subdirectory and name the subdirectory as App name then press enter."
   ]
  },
  {
   "cell_type": "markdown",
   "metadata": {},
   "source": [
    "# 2. Creating base.html :\n",
    "Now, we are going to create a file named \"index.html\" inside the template folder.\n",
    "\n",
    "Step 1: Right-click on the template folder.\n",
    "\n",
    "Step 2: Click on \"New\"\n",
    "\n",
    "Step 3: Click on \"HTML file\" and name the file as \"index.html\"\n",
    "\n",
    "\n",
    "When you tell Django to load the template index.html it will load the first file it finds (based on the order of your apps in the INSTALLED_APPS setting). So, if you want to load the index template for second_app, but the first_app is listed first in INSTALLED_APPS, Django will load the wrong template.\n",
    "\n",
    "We solve this problem by namespacing our templates. Namespacing templates is simple—we add a folder named after the app to our templates folder. This is what the above example looks like after namespacing the templates:\n",
    "\n",
    "    \\first_app\n",
    "        \\templates\n",
    "            \\first_app\n",
    "                index.html\n",
    "\n",
    "                                            \\second_app\n",
    "                                                \\templates\n",
    "                                                    \\second_app\n",
    "                                                        index.html"
   ]
  },
  {
   "cell_type": "markdown",
   "metadata": {},
   "source": [
    "## 3. index.html code\n",
    "Step 1:write   html code \n",
    "![django](https://smartcodehelper.com/wp-content/uploads/2020/12/vs-code-html-boiler-plate-shortcut-windows.png)\n",
    "\n",
    "\n",
    "   "
   ]
  },
  {
   "cell_type": "markdown",
   "metadata": {},
   "source": [
    "## 4. Edit app views.py \n",
    "\n",
    "    def index(request):\n",
    "\n",
    "         return render(request, 'authentication/index.html',{})\n"
   ]
  },
  {
   "cell_type": "markdown",
   "metadata": {},
   "source": [
    "## 6. Mapping(app Urls.py)\n",
    "\n",
    "from authentication.views import index\n",
    "\n",
    "      from django.urls import path\n",
    "\n",
    "              urlpatterns =[path('',index,name='index')]\n"
   ]
  },
  {
   "cell_type": "markdown",
   "metadata": {},
   "source": [
    "# ------------------------------------------------------------------ Restart the server"
   ]
  },
  {
   "cell_type": "markdown",
   "metadata": {},
   "source": [
    "#  Templates Inheritance"
   ]
  },
  {
   "cell_type": "markdown",
   "metadata": {},
   "source": [
    "With Django’s template inheritance, you create a parent template containing content shared by every page on the website and child templates that inherit these shared features from the parent. Child templates can then add content and formatting unique to the child.\n",
    "\n",
    "This is easier to understand in practice. First, modify your base.html file as follows\n",
    "\n",
    "## base.html"
   ]
  },
  {
   "cell_type": "code",
   "execution_count": 3,
   "metadata": {},
   "outputs": [
    {
     "data": {
      "text/html": [
       "<!DOCTYPE html>\n",
       "<html lang=\"en\">\n",
       "    <head>\n",
       "      \n",
       "      {% block title %}{% endblock title %}\n",
       "      \n",
       "        <meta charset=\"UTF-8\">\n",
       "        <meta name=\"viewport\" content=\"width=device-width, initial-scale=1\">\n",
       "        <link href=\"css/style.css\" rel=\"stylesheet\">\n",
       "    </head>\n",
       "    <body>\n",
       "      \n",
       "    {% block content %}\n",
       "      \n",
       "    {% endblock content %}\n",
       "    </body>\n",
       "</html>\n"
      ],
      "text/plain": [
       "<IPython.core.display.HTML object>"
      ]
     },
     "metadata": {},
     "output_type": "display_data"
    }
   ],
   "source": [
    "%%html\n",
    "<!DOCTYPE html>\n",
    "<html lang=\"en\">\n",
    "    <head>\n",
    "      \n",
    "      {% block title %}{% endblock title %}\n",
    "      \n",
    "        <meta charset=\"UTF-8\">\n",
    "        <meta name=\"viewport\" content=\"width=device-width, initial-scale=1\">\n",
    "        <link href=\"css/style.css\" rel=\"stylesheet\">\n",
    "    </head>\n",
    "    <body>\n",
    "      \n",
    "    {% block content %}\n",
    "      \n",
    "    {% endblock content %}\n",
    "    </body>\n",
    "</html>\n",
    "\n",
    "ignore output"
   ]
  },
  {
   "cell_type": "markdown",
   "metadata": {},
   "source": [
    "I have added a pair of Django block tags. The block tag defines a block of text other templates can replace. I’ve named the block title.\n",
    "\n",
    "Next, we will create a child template index.html that inherits common content from the base template and then adds new content unique to the index.html.\n",
    "\n",
    "## index.html"
   ]
  },
  {
   "cell_type": "code",
   "execution_count": 6,
   "metadata": {},
   "outputs": [
    {
     "data": {
      "text/html": [
       "{% extends \"base.html\" %}\n",
       "\n",
       "\n",
       "{% block title %}\n",
       " <title>Home Page</title>\n",
       "{% endblock title %}\n",
       "\n",
       "{% block content %}\n",
       "\n",
       "<h2>Welcome</h2>\n",
       "{% endblock content %}\n",
       "\n",
       "\n",
       "      \n",
       "ignore output\n"
      ],
      "text/plain": [
       "<IPython.core.display.HTML object>"
      ]
     },
     "metadata": {},
     "output_type": "display_data"
    }
   ],
   "source": [
    "%%html\n",
    "{% extends \"base.html\" %}\n",
    "\n",
    "\n",
    "{% block title %}\n",
    " <title>Home Page</title>\n",
    "{% endblock title %}\n",
    "\n",
    "{% block content %}\n",
    "\n",
    "<h2>Welcome</h2>\n",
    "{% endblock content %}\n",
    "\n",
    "\n",
    "      \n",
    "ignore output"
   ]
  },
  {
   "cell_type": "markdown",
   "metadata": {},
   "source": [
    "The {% extends %} template tag is where Django’s template inheritance magic happens. When you add the {% extends %} tag to a template file, you are telling Django to load all the content from the parent template (base.html). All you have to do in the child is define what blocks the child replaces and add any additional HTML and code unique to the child.\n",
    "\n",
    "We replace the title block tag from base.html with a new block that will contain the title variable from the index view.\n",
    "\n",
    " We’re replacing the content block from base.html with a new content block.\n",
    "\n"
   ]
  },
  {
   "cell_type": "markdown",
   "metadata": {},
   "source": [
    "### -----------------------run server"
   ]
  },
  {
   "cell_type": "code",
   "execution_count": null,
   "metadata": {},
   "outputs": [],
   "source": []
  }
 ],
 "metadata": {
  "kernelspec": {
   "display_name": "Python 3",
   "language": "python",
   "name": "python3"
  },
  "language_info": {
   "codemirror_mode": {
    "name": "ipython",
    "version": 3
   },
   "file_extension": ".py",
   "mimetype": "text/x-python",
   "name": "python",
   "nbconvert_exporter": "python",
   "pygments_lexer": "ipython3",
   "version": "3.8.3"
  }
 },
 "nbformat": 4,
 "nbformat_minor": 4
}
