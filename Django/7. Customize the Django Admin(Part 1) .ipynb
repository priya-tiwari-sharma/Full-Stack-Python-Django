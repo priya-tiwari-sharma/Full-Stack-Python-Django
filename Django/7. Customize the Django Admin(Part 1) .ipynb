{
 "cells": [
  {
   "cell_type": "markdown",
   "metadata": {},
   "source": [
    "# Customize the Django Admin \n",
    "The Django framework comes with a powerful administrative tool called **admin**. You can use it out of the box to quickly add, delete, or edit any database model from a web interface. But with a little extra code, you can customize the Django admin to take your admin capabilities to the next level."
   ]
  },
  {
   "cell_type": "markdown",
   "metadata": {},
   "source": [
    "You’re interested in two of these files:\n",
    "\n",
    "1. models.py defines your database models.\n",
    "2. admin.py registers your models with the Django admin.\n",
    "\n",
    "To demonstrate the outcome when you customize the Django admin, you’ll need some models. Edit authentication/models.py:\n",
    "\n",
    "**Creating a Model**\n",
    "    \n",
    "    from django.db import models\n",
    "\n",
    "    class customer(models.Model):\n",
    "       username = models.CharField(max_length = 200)\n",
    "       address = models.TextField()\n",
    "\n",
    "       class Meta:\n",
    "           db_table = \"Bank_customer\"\n",
    "           ordering = ['-username']\n",
    "\n",
    "       def __str__(self):\n",
    "           return self.username\n",
    "\n",
    "\n"
   ]
  },
  {
   "cell_type": "markdown",
   "metadata": {},
   "source": [
    "**Register a model in admin.py**\n",
    "\n",
    "Each model that you want Django to represent in the admin interface needs to be registered. You do this in the admin.py file. Models from athentication/models.py are registered in the corresponding athentication/admin.py file.\n"
   ]
  },
  {
   "cell_type": "markdown",
   "metadata": {},
   "source": [
    "     from django.contrib import admin\n",
    "     from .models import customer\n",
    "\n",
    "     @admin.reqister(customer)\n",
    "     class customer(admin.ModelAdmin):\n",
    "         pass"
   ]
  },
  {
   "cell_type": "markdown",
   "metadata": {},
   "source": [
    "**Migrations**\n",
    "    \n",
    "        python manage.py makemigrations\n",
    "        python manage.py migrate\n",
    "        "
   ]
  },
  {
   "cell_type": "markdown",
   "metadata": {},
   "source": [
    "Now visit http://127.0.0.1:8000/admin to see your admin interface. You’ll be prompted to log in. Use the credentials you created with the **createsuperuser** management command.\n",
    "        \n",
    "        python manage.py creatsuperuser"
   ]
  },
  {
   "cell_type": "markdown",
   "metadata": {},
   "source": [
    "You can now use the interface to create objects in your database. Clicking a model name will show you a screen listing all the objects in the database for that model."
   ]
  },
  {
   "cell_type": "markdown",
   "metadata": {},
   "source": [
    "## Customizing the __[Django Admin](https://docs.djangoproject.com/en/3.0/ref/contrib/admin/)__\n",
    "Django developer created the Django framework not only built the admin, but they did it in such a way that you can customize it for your projects. When you registered the **customerAdmin** object earlier, it inherited from **admin.ModelAdmin**. Most of the customization you can do with the Django admin is done by modifying **ModelAdmin**."
   ]
  },
  {
   "cell_type": "markdown",
   "metadata": {},
   "source": [
    "The admin is built using Django’s templating interface. The Django template mechanism allows you to override existing templates, and because the admin is just another set of templates, this means you can completely change its HTML."
   ]
  },
  {
   "cell_type": "markdown",
   "metadata": {},
   "source": [
    "The Django admin is split into three major areas:\n",
    "\n",
    "1. App index\n",
    "2. Change lists\n",
    "3. Change forms"
   ]
  },
  {
   "cell_type": "markdown",
   "metadata": {},
   "source": [
    "The app index lists your registered models. A change list is automatically created for each registered model and lists the objects for that model. When you add or edit one of those objects, you do so with a change form.\n",
    "\n",
    "In the earlier example, the app index showed the customer objects. Clicking people shows the change lists for customer objects. On the customer change list page, clicking the user1 object takes you to the change form to edit user1 details."
   ]
  },
  {
   "cell_type": "markdown",
   "metadata": {},
   "source": [
    "## Modifying a Change List Using list_display\n",
    "The LocalLibrary currently lists all authors using the object name generated from the model __str__() method. This is fine when you only have a few authors, but once you have many you may end up having duplicates. To differentiate them, or just because you want to show more interesting information about each author, you can use list_display to add additional fields to the view. \n",
    "\n",
    "NOTE:Replace your customerAdmin class with the code below. The field names to be displayed in the list are declared in a tuple in the required order, as shown (these are the same names as specified in your original model)."
   ]
  },
  {
   "cell_type": "markdown",
   "metadata": {},
   "source": [
    "    @admin.register(customer)\n",
    "    class customer(admin.ModelAdmin):\n",
    "        list_display = ('username','address')"
   ]
  },
  {
   "cell_type": "markdown",
   "metadata": {},
   "source": [
    " The admin also set the ordering attribute of a Meta section:\n",
    "\n",
    "    class Meta:\n",
    "        db_table = 'bank_customer'\n",
    "        ordering = (\"address\",\"username\")\n",
    "        "
   ]
  },
  {
   "cell_type": "markdown",
   "metadata": {},
   "source": [
    "## Adding Filters to the List Screen\n",
    "In addition to filtering data on the change list through the calling URL, you can also filter with a built-in widget. Add the list_filter attribute to the CustomerAdmin object in authentication/admin.py:\n",
    "\n",
    "    @admin.register(customer)\n",
    "    class customer(admin.ModelAdmin):\n",
    "        list_display = ('username','address')\n",
    "        list_filter = (\"address\", )"
   ]
  },
  {
   "cell_type": "markdown",
   "metadata": {},
   "source": [
    "# Organize detail view layout\n",
    "By default, the detail views lay out all fields vertically, in their order of declaration in the model. You can change the order of declaration, which fields are displayed (or excluded), whether sections are used to organize the information, whether fields are displayed horizontally or vertically, and even what edit widgets are used in the admin forms."
   ]
  },
  {
   "cell_type": "markdown",
   "metadata": {},
   "source": [
    "Controlling which fields are displayed and laid out\n",
    "\n",
    "\n",
    "    class customer(admin.ModelAdmin):\n",
    "        list_display = ('username','address')\n",
    "        list_filter = ('address', 'username')\n",
    "        fields=['username',]"
   ]
  },
  {
   "cell_type": "markdown",
   "metadata": {},
   "source": [
    "## Adding Search to the List Screen"
   ]
  },
  {
   "cell_type": "markdown",
   "metadata": {},
   "source": [
    "You set search with a tuple containing the names of fields to be used for constructing a search query in the database.\n",
    "     \n",
    "     search_fields = (\"username__startswith\",)"
   ]
  },
  {
   "cell_type": "markdown",
   "metadata": {},
   "source": [
    "## Change Django administration text\n",
    "add these lines in admin.py\n",
    "\n",
    "    admin.site.site_header = \"Gym Counsoler Header\"\n",
    "    admin.site.index_title = \"Gym Counsoler Index\"\n",
    "    admin.site.site_title = \"Gym Counsoler Title\""
   ]
  },
  {
   "cell_type": "code",
   "execution_count": null,
   "metadata": {},
   "outputs": [],
   "source": []
  }
 ],
 "metadata": {
  "kernelspec": {
   "display_name": "Python 3",
   "language": "python",
   "name": "python3"
  },
  "language_info": {
   "codemirror_mode": {
    "name": "ipython",
    "version": 3
   },
   "file_extension": ".py",
   "mimetype": "text/x-python",
   "name": "python",
   "nbconvert_exporter": "python",
   "pygments_lexer": "ipython3",
   "version": "3.8.3"
  }
 },
 "nbformat": 4,
 "nbformat_minor": 4
}
