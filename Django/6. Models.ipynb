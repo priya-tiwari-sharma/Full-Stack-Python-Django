{
 "cells": [
  {
   "cell_type": "markdown",
   "metadata": {},
   "source": [
    "# __[Django Models](https://docs.djangoproject.com/en/3.2/topics/db/models/)__"
   ]
  },
  {
   "cell_type": "markdown",
   "metadata": {},
   "source": [
    "A Django model is the built-in feature that Django uses to create tables, their fields, and various constraints\n",
    "\n",
    "A model is a class that represents table or collection in our DB, and where every attribute of the class is a field of the table or collection.\n",
    "\n",
    "we can use admin panel of Django to create, update, delete or retrieve fields of a model and various similar operations. Django models provide simplicity, consistency, version control and advanced metadata handling. Basics of a model include –\n",
    "\n",
    "1. Each model is a Python class that subclasses django.db.models.Model.\n",
    "2. Each attribute of the model represents a database field.\n",
    "3. With all of this, Django gives you an automatically-generated database-access API."
   ]
  },
  {
   "cell_type": "markdown",
   "metadata": {},
   "source": [
    "![django](https://djangobook.com/wp-content/uploads/Django_ORM_600.png)"
   ]
  },
  {
   "cell_type": "markdown",
   "metadata": {},
   "source": [
    "#### Creating a Model\n",
    "    from django.db import models\n",
    "    class customer(models.Model):\n",
    "           username = models.CharField(max_length = 200)\n",
    "           address = models.TextField()\n",
    "           \n",
    "           class Meta:\n",
    "                db_table = \"Bank_customer\"\n",
    "                ordering = ['-username']\n",
    "                \n",
    "           def __str__(self):\n",
    "                \"\"\"String for representing the customer object (in Admin site etc.).\"\"\"\n",
    "           return self.username\n",
    "           \n",
    "   |Table|Customer|\n",
    "   |--|---|\n",
    "   |id|1|\n",
    "   |username|Priya|\n",
    "   |address|Gurgaon|"
   ]
  },
  {
   "cell_type": "markdown",
   "metadata": {},
   "source": [
    "Every model inherits from django.db.models.Model.\n",
    "## Meta class\n",
    "    class Meta:\n",
    "            db_table = \"Bank_customer\"\n",
    "            ordering = ['-username']\n",
    "            \n",
    "The Meta class with the **db_table** attribute lets us define the actual table or collection name. Django names the table or collection automatically: customer. This class will let you force the name of the table to what you like: Bank_customer\n",
    "\n",
    "Another features of this metadata is to control the default **ordering** of records returned when you query the model type. You do this by specifying the match order in a list of field names to the ordering attribute, as shown above. The ordering will depend on the type of field (character fields are sorted alphabetically, while date fields are sorted in chronological order). As shown above, you can prefix the field name with a minus symbol (-) to reverse the sorting order.\n",
    "\n",
    "The full list of metadata options are available here: __[Model metadata options (Django docs)](https://docs.djangoproject.com/en/3.2/ref/models/options/)__"
   ]
  },
  {
   "cell_type": "markdown",
   "metadata": {},
   "source": [
    "## Methods\n",
    "    def __str__(self):\n",
    "       return self.username\n",
    "In every model you should define the standard Python class method **__str__()** to return a human-readable string for each object. This string is used to represent individual records in the administration site (and anywhere else you need to refer to a model instance). Often this will return a title or name field from the model.\n",
    "\n"
   ]
  },
  {
   "cell_type": "markdown",
   "metadata": {},
   "source": [
    "## Fields\n",
    "A model can have an arbitrary number of fields, of any type — each one represents a column of data that we want to store in database tables.\n",
    "Common field types\n",
    "\n",
    "1. **CharField** is used to define short-to-mid sized fixed-length strings. You must specify the max_length of the data to be stored.\n",
    "\n",
    "2. **TextField** is used for large arbitrary-length strings. You may specify a max_length for the field, but this is used only when the field is displayed in forms (it is not enforced at the database level).\n",
    "\n",
    "3. **IntegerField** is a field for storing integer (whole number) values, and for validating entered values as integers in forms.\n",
    "\n",
    "4. **DateField** and **DateTimeField** are used for storing dates and date/time information These fields can additionally declare the parameters _auto_now=True_ (to set the field to the current date every time the model is saved), _auto_now_add_ (to only set the date when the model is first created) , and default (to set a default date that can be overridden by the user).\n",
    "\n",
    "5. **EmailField** is used to store and validate email addresses.\n",
    "\n",
    "6. **FileField** and **ImageField** are used to upload files and images respectively . These have parameters to define how and where the uploaded files are stored.\n",
    "\n",
    "7. **AutoField** is a special type of IntegerField that automatically increments. A primary key of this type is automatically added to your model if you don’t explicitly specify one.\n",
    "\n",
    "8. **ForeignKey** is used to specify a one-to-many relationship to another database model (e.g. a car has one manufacturer, but a manufacturer can make many cars). The \"one\" side of the relationship is the model that contains the \"key\" (models containing a \"foreign key\" referring to that \"key\", are on the \"many\" side of such a relationship).\n",
    "\n",
    "9. **ManyToManyField** is used to specify a many-to-many relationship (e.g. a book can have several genres, and each genre can contain several books).\n",
    "\n",
    "__[django documentation](https://docs.djangoproject.com/en/3.2/topics/db/models/)__"
   ]
  },
  {
   "cell_type": "markdown",
   "metadata": {},
   "source": [
    "## Field arguments\n",
    "\n",
    "The following common arguments can be used when declaring many/most of the different field types:\n",
    "\n",
    "1. **help_text** : Provides a text label for HTML forms (e.g. in the admin site), as described above.\n",
    "\n",
    "2. **verbose_name** : A human-readable name for the field used in field labels. If not specified, Django will infer the default verbose name from the field name.'\n",
    "\n",
    "3. **default** : The default value for the field. This can be a value or a callable object, in which case the object will be called every time a new record is created.\n",
    "\n",
    "4. **null** : If True, Django will store blank values as NULL in the database for fields where this is appropriate (a CharField will instead store an empty string). The default is False.\n",
    "\n",
    "5. **blank** : If True, the field is allowed to be blank in your forms. The default is False, which means that Django's form validation will force you to enter a value. This is often used with null=True , because if you're going to allow blank values, you also want the database to be able to represent them appropriately.\n",
    "\n",
    "6. **choices** : A group of choices for this field. If this is provided, the default corresponding form widget will be a select box with these choices instead of the standard text field.\n",
    "\n",
    "7. **primary_key** : If True, sets the current field as the primary key for the model. If no field is specified as the primary key then Django will automatically add a field for this purpose.\n",
    "\n",
    "__[doc](https://docs.djangoproject.com/en/3.1/ref/models/fields/#field-options)__"
   ]
  },
  {
   "cell_type": "markdown",
   "metadata": {},
   "source": [
    "## Migrations\n",
    "Whenever we create a Model, Delete a Model, or update anything in any of models.py of our project. We need to run two commands makemigrations and migrate. makemigrations basically generates the SQL commands for preinstalled apps (which can be viewed in installed apps in settings.py) and your newly created app’s model which you add in installed apps whereas migrate executes those SQL commands in the database file.\n",
    "So when we run,\n",
    "#### python manage.py makemigrations\n",
    "_Makemigrations_ basically generates the SQL commands for preinstalled apps (which can be viewed in installed apps in settings.py) and your newly created apps’ model which you add in installed apps. It does not execute those commands in your database file. So tables are not created after makemigrations. \n",
    "\n",
    "#### python manage.py migrate\n",
    "After applying makemigrations you can see those SQL commands with sqlmigrate which shows all the SQL commands which have been generated by makemigrations.\n",
    "\n",
    "Note:After making any change in any of app’s models file you need to run above command from the terminal"
   ]
  },
  {
   "cell_type": "markdown",
   "metadata": {},
   "source": [
    "## Model management:\n",
    "Once you've defined your model classes you can use them to create, update, or delete records, and to run queries to get all records or particular subsets of records.\n",
    "\n",
    "## Activate Shell\n",
    "python manage.py shell\n",
    "\n",
    "## Import Model\n",
    "from authentication.models import customer\n",
    "\n",
    "### Creating  records\n",
    "To create a record you can define an instance of the model and then call save().\n"
   ]
  },
  {
   "cell_type": "markdown",
   "metadata": {},
   "source": [
    "Create a new record using the model's constructor.\n",
    "\n",
    "instance1 = customer(username=\"Instance 1\",address=\"mumbai\")\n",
    "\n",
    "Save the object into the database.\n",
    "\n",
    "instance1.save()"
   ]
  },
  {
   "cell_type": "markdown",
   "metadata": {},
   "source": [
    "## Accessing Record\n",
    "\n",
    "instance1.username\n",
    "\n",
    "instance1.address\n",
    "\n",
    "## Modifying Record\n",
    "instance1.username=\"user1\"\n",
    "\n",
    "instance1.save()\n",
    "\n"
   ]
  },
  {
   "cell_type": "markdown",
   "metadata": {},
   "source": [
    "## Searching for records\n",
    "You can search for records that match certain criteria using the model's objects attribute (provided by the base class).\n",
    "\n",
    "__.all()__\n",
    "\n",
    "We can get all records for a model as a QuerySet, using objects.all(). The QuerySet is an iterable object, meaning that it contains a number of objects that we can iterate/loop through.\n",
    "\n",
    "customer.objects.all()"
   ]
  },
  {
   "cell_type": "markdown",
   "metadata": {},
   "source": [
    "__.filter()__\n",
    "\n",
    "Returns a new QuerySet containing objects that match the given __[lookup parameters](https://docs.djangoproject.com/en/dev/ref/models/querysets/#id4)__.\n",
    "\n",
    "        customer.objects.filter(username='user1')\n",
    "\n",
    "To get a address whose name starts with or contains the word 'de' or 'i'\n",
    "\n",
    "        customer.objects.filter(address__startswith=\"de\")\n",
    "\n",
    "        customer.objects.filter(address__contains=\"i\")\n",
    "        \n",
    "if we have product table so Looking for products whose prices are between 10–15:\n",
    "\n",
    "        Product.objects.filter(price__range=(10,15))"
   ]
  },
  {
   "cell_type": "markdown",
   "metadata": {},
   "source": [
    "**.exclude()**\n",
    "\n",
    "Returns a new QuerySet containing objects that do not match the given __[lookup parameters](https://docs.djangoproject.com/en/dev/ref/models/querysets/#id4)__.\n",
    "\n",
    "customer.objects.exclude(address__contains='d')\n"
   ]
  },
  {
   "cell_type": "markdown",
   "metadata": {},
   "source": [
    "**.get()**\n",
    "\n",
    "customer.objects.get(id=1)"
   ]
  },
  {
   "cell_type": "markdown",
   "metadata": {},
   "source": [
    "\n",
    "**get() vs filter()**\n",
    "\n",
    "get(**kwargs)\n",
    "\n",
    "Returns the object matching the given lookup parameters, which should be in the format described in Field lookups.\n",
    "\n",
    "get() raises MultipleObjectsReturned if more than one object was found. The MultipleObjectsReturned exception is an attribute of the model class.\n",
    "\n",
    "get() raises a DoesNotExist exception if an object wasn't found for the given parameters. This exception is also an attribute of the model class.\n",
    "\n",
    "filter(**kwargs)\n",
    "\n",
    "Returns a new QuerySet containing objects that match the given lookup parameters.\n",
    "\n",
    "Basically use get() when you want to get a single unique object, and filter() when you want to get all objects that match your lookup parameters."
   ]
  },
  {
   "cell_type": "markdown",
   "metadata": {},
   "source": [
    "**.order_by()**\n",
    "\n",
    "customer.objects.filter(address__contains='i').order_by('username')\n"
   ]
  },
  {
   "cell_type": "markdown",
   "metadata": {},
   "source": [
    "**.distinct()**\n",
    "\n",
    "Returns a new QuerySet that uses SELECT DISTINCT in its SQL query. This eliminates duplicate rows from the query results.\n",
    "\n",
    "customer.objects.distinct()\n"
   ]
  },
  {
   "cell_type": "markdown",
   "metadata": {},
   "source": [
    "**.values()**\n",
    "\n",
    "Returns a QuerySet that returns dictionaries, rather than model instances, when used as an iterable.\n",
    "\n",
    "    customer.objects.all().value()\n",
    "    customer.objects.all().value('address')"
   ]
  },
  {
   "cell_type": "markdown",
   "metadata": {},
   "source": [
    "**.values_list()**\n",
    "\n",
    "This is similar to values() except that instead of returning dictionaries, it returns tuples when iterated over. Each tuple contains the value from the respective field or expression passed into the values_list() call \n",
    "\n",
    "customer.objects.all().values_list()"
   ]
  },
  {
   "cell_type": "markdown",
   "metadata": {},
   "source": [
    "## Register Model\n",
    "First, open admin.py in the application . It currently looks like this — note that it already imports django.contrib.admin:\n",
    "from .models import customer\n",
    "\n",
    "admin.site.register(customer)"
   ]
  },
  {
   "cell_type": "markdown",
   "metadata": {},
   "source": [
    "## In the next session we'll uderstand what is Advanced configuration in __[admin](https://docs.djangoproject.com/en/3.1/ref/contrib/admin/#modeladmin-objects)__ "
   ]
  },
  {
   "cell_type": "code",
   "execution_count": null,
   "metadata": {},
   "outputs": [],
   "source": []
  }
 ],
 "metadata": {
  "kernelspec": {
   "display_name": "Python 3",
   "language": "python",
   "name": "python3"
  },
  "language_info": {
   "codemirror_mode": {
    "name": "ipython",
    "version": 3
   },
   "file_extension": ".py",
   "mimetype": "text/x-python",
   "name": "python",
   "nbconvert_exporter": "python",
   "pygments_lexer": "ipython3",
   "version": "3.8.3"
  }
 },
 "nbformat": 4,
 "nbformat_minor": 4
}
