{
 "cells": [
  {
   "cell_type": "markdown",
   "metadata": {},
   "source": [
    "# Django\n",
    "Django is a high-level Python web framework that enables rapid development of secure and maintainable websites. Built by experienced developers, Django takes care of much of the hassle of web development, so you can focus on writing your app without needing to reinvent the wheel. It is free and open source, has an active community and great documentation.\n",
    "\n",
    "https://docs.djangoproject.com/en/3.2/\n",
    "\n",
    "####  History\n",
    "Django was design and developed by Lawrence journal world in 2003 and publicly released under BSD license in July 2005. Currently, DSF (Django Software Foundation) maintains its development and release cycle.\n",
    "\n"
   ]
  },
  {
   "cell_type": "markdown",
   "metadata": {},
   "source": [
    "![Django](https://d2h0cx97tjks2p.cloudfront.net/blogs/wp-content/uploads/sites/2/2019/04/Django-Advantages-and-Disadvantages-1.jpg)"
   ]
  },
  {
   "cell_type": "markdown",
   "metadata": {},
   "source": [
    "## Advantages\n",
    "#### Implemented in Python\n",
    "If you have learned Python, or have seen the Python code, you will also observe that Python is very easy to read, and that’s the main design philosophy behind the creation of Python.\n",
    "####  Better CDN connectivity and Content Management\n",
    "Django provides libraries and developers to use it as a CMS (Content Management System) due to its great Admin Interface, which makes it rather easy to set up and run CDNs.\n",
    "CDNsContent Delivery Networks, as from the name, they are special servers having the multimedia and content which sites as Netflix and Amazon Prime uses for streaming. These servers only contain the multimedia and resources for your webpage, as they are geographically located near the client, so they can serve the content more rapidly and thus, increasing client satisfaction.\n",
    "#### Batteries Included Framework\n",
    "Django Framework, comes with so much functionality, you may not even need to create anything other than your own unique application, and that’s what Django’s design philosophy is DRY (Don’t Repeat Yourself).\n",
    "#### Fast Processing\n",
    "Django uses the MVT architecture which makes the whole process of transmitting over the Internet easier and faster as the resources can be put on a CDN. Django server handles things pretty well, while also maintaining the Speed.\n",
    "#### Offers Rapid-development\n",
    "It means that we can work on different components parallelly and then can integrate much more easily.\n",
    "#### Scalable\n",
    "Django has been made in such a way that it will be able to handle any kind of hardware additions. This advantage is the main reason as to why the busiest sites of the world like Instagram, Pinterest, Youtube, etc use the Django framework.\n",
    "#### Security\n",
    "Django framework is made by world’s best web-developers who have a great experience and knowledge. So, that leaves a very small possibility of security loopholes in Django, even in the user authentication system.\n",
    "It also uses the Get Method to transmit the data but the passwords and all the important information automatically encrypts with a long security key. Even in the Django database, we cannot see the password."
   ]
  },
  {
   "cell_type": "markdown",
   "metadata": {},
   "source": [
    "## Disadvantages\n",
    "#### Django is Monolithic\n",
    "Django framework has a certain way to define and perform tasks. It is a logical file structure and easy to learn. But, that also makes it mandatory that you can’t use your own file structure. It is because the framework has a way, popularly known as “The Django way” of doing things. If you don’t follow those rules, you may not be able to deploy anything using Django.\n",
    "#### Not for smaller projects\n",
    "All the functionality of Django comes with lots of code. It takes server’s processing and time, which poses some issues for low-end websites which can run on even very little bandwidth."
   ]
  },
  {
   "cell_type": "markdown",
   "metadata": {},
   "source": [
    "# Django MVT\n",
    "## The MVT (Model View Template) is a software design pattern. It is a collection of three important components :\n",
    "\n",
    "#### Model :-The Model helps to handle database. It is a data access layer which handles the data.\n",
    "#### View :-The View is used to execute the business logic and interact with a model to carry data and renders a template.\n",
    "#### Template:-The Template is a presentation layer which handles User Interface part completely.\n",
    "\n"
   ]
  },
  {
   "cell_type": "markdown",
   "metadata": {},
   "source": [
    "![Django](https://www.javatpoint.com/django/images/django-mvt-based-control-flow.png)"
   ]
  },
  {
   "cell_type": "markdown",
   "metadata": {},
   "source": [
    "Here, a user requests for a resource to the Django, Django works as a controller and check to the available resource in URL.\n",
    "If URL maps, a view is called that interact with model and template, it renders a template.\n",
    "Django responds back to the user and sends a template as a response."
   ]
  },
  {
   "cell_type": "markdown",
   "metadata": {},
   "source": [
    "# Django Installation\n",
    "Django requires pip to start installation. Pip is a package manager system which is used to install and manage packages written in python. For Python 3.4 and higher versions pip3 is used to manage packages."
   ]
  },
  {
   "cell_type": "markdown",
   "metadata": {},
   "source": [
    "## 1. Open Command Prompt\n",
    "\n",
    "\n"
   ]
  },
  {
   "cell_type": "markdown",
   "metadata": {},
   "source": [
    "|Purpose  |  Commands|\n",
    "|---------|----------|\n",
    "|Install pip|python -m pip install -U pip|\n",
    "|Check Python Version|python --version|\n",
    "|Install Django|pip install django|\n",
    "|Check Django Version|django-admin --version|"
   ]
  },
  {
   "cell_type": "markdown",
   "metadata": {},
   "source": [
    "## 2. Install virtual environment"
   ]
  },
  {
   "cell_type": "markdown",
   "metadata": {},
   "source": [
    "|Purpose| Commands|\n",
    "|-------|---------|\n",
    "|Install Virtual Environment |pip install virtualenv|\n",
    "|Create a Virtual Environment|python -m venv env|\n",
    "|Activate Virtual Environment|django_world\\Scripts\\activate|\n",
    "\n"
   ]
  },
  {
   "cell_type": "markdown",
   "metadata": {},
   "source": [
    "## 3. Install Django\n",
    "        pip install django\n",
    "        django-admin --version\n",
    "        python --version"
   ]
  },
  {
   "cell_type": "markdown",
   "metadata": {},
   "source": [
    "## 4. Create a Project\n",
    "        django-admin startproject ProjectName"
   ]
  },
  {
   "cell_type": "markdown",
   "metadata": {},
   "source": [
    "## 5. Change directory to ProjectName\n",
    "        cd ProjectName"
   ]
  },
  {
   "cell_type": "markdown",
   "metadata": {},
   "source": [
    "## 6. Tree-To see all the files and subfolders of django project\n",
    "        tree"
   ]
  },
  {
   "cell_type": "markdown",
   "metadata": {},
   "source": [
    "A Django project contains the following packages and files. The outer directory is just a container for the application. We can rename it further.\n",
    "\n",
    "|File Name| Work|\n",
    "|--------|------|\n",
    "|manage.py| It is a command-line utility which allows us to interact with the project in various ways and also used to manage an application that we will see later on in this tutorial.|\n",
    "|__init__.py| It is an empty file that tells to the Python that this directory should be considered as a Python package.|\n",
    "|settings.py| This file is used to configure application settings such as database connection, static files linking etc.|\n",
    "|urls.py| This file contains the listed URLs of the application. In this file, we can mention the URLs and corresponding actions to perform the task and display the view.|\n",
    "|wsgi.py| It is an entry-point for WSGI-compatible web servers to serve Django project.|\n"
   ]
  },
  {
   "cell_type": "markdown",
   "metadata": {},
   "source": [
    "## 7.  Run Web Server\n",
    "Django uses its built-in development server to run the web application. To start this server, we can use below command.\n",
    "#### python manage.py runserver .\n",
    "\n",
    "This command starts the server which runs on port 8000 and can be accessed at browser by entering \n",
    "#### http://127.0.0.1:8000/    or     localhost:8000.\n",
    "It shows a welcome page of the application."
   ]
  },
  {
   "cell_type": "markdown",
   "metadata": {},
   "source": [
    "![django](https://d33wubrfki0l68.cloudfront.net/dcba07cc100635678dcc073f5f94e2cf758a2422/c4dbe/images/python-django-example.png)"
   ]
  },
  {
   "cell_type": "markdown",
   "metadata": {},
   "source": [
    "## 8. Migrations\n",
    "Migration is a way of applying changes that we have made to a model, into the database schema. Django creates a migration file inside the migration folder for each model to create the table schema, and each table is mapped to the model of which migration is created.\n",
    "\n",
    "makemigrations : It is used to create a migration file that contains code for the tabled schema of a model.\n",
    "migrate : It creates table according to the schema defined in the migration file.\n",
    "#### python manage.py makemigrations\n",
    "#### python manage.py migrate"
   ]
  },
  {
   "cell_type": "markdown",
   "metadata": {},
   "source": [
    "## 9. Django Admin Interface\n",
    "Django provides a built-in admin module which can be used to perform CRUD operations on the models. It reads metadata from the model to provide a quick interface where the user can manage the content of the application.\n",
    "\n",
    "This is a built-in module and designed to perform admin related tasks to the user.\n",
    "\n",
    "The admin app (django.contrib.admin) is enabled by default and already added into INSTALLED_APPS section of the settings file.\n",
    "#### python manage.py createsuperuser  \n",
    "#### python manage.py runserver  "
   ]
  },
  {
   "cell_type": "markdown",
   "metadata": {},
   "source": [
    "## 10. Django App\n",
    "The difference between a project and app is, a project is a collection of configuration files and apps whereas the app is a web application which is written to perform business logic.\n",
    "#### python manage.py startapp appname  \n",
    "#### tree"
   ]
  },
  {
   "cell_type": "markdown",
   "metadata": {},
   "source": [
    "Let us see what these files are used for.\n",
    "\n",
    "1. __init__.py is the blank script and due to its name let’s python know that directory will be treated as a package.\n",
    "\n",
    "2. admin.py is the place where you register your models to use them with Django’s admin interface.\n",
    "\n",
    "3. apps.py, Here we can place specific configurations of the application.\n",
    "\n",
    "4. models.py is the place where we are going to store our data models and the entities and relationships between the data will be specified.\n",
    "\n",
    "5. test.py file is used to save different functions to test our own application.\n",
    "\n",
    "6. views.py handle the requests and return responses.\n",
    "\n",
    "7. ‘migrations’ folder stores database and it’s specific information as it relates to the models."
   ]
  },
  {
   "cell_type": "markdown",
   "metadata": {},
   "source": [
    "## 11.Register App in settings.py\n",
    "Open the project settings file (settings.py), and find the definition for the INSTALLED_APPS list. Then add a new line at the end of the list.\n",
    "\n",
    "![Django](https://blog.hackajob.co/content/images/2020/01/image-25.png)"
   ]
  },
  {
   "cell_type": "markdown",
   "metadata": {},
   "source": [
    "## 12. Map App Urls\n",
    "Project(Urls.py)\n",
    "![Django](https://miro.medium.com/max/500/1*cmiBDD3ImeqkpltlWZjthQ.png)"
   ]
  },
  {
   "cell_type": "markdown",
   "metadata": {},
   "source": [
    "#### Create app urls.py ------------App(urls.py)\n",
    "![django](https://miro.medium.com/max/500/1*U67Q0sMPeBFZ9pkYpECXVA.png)"
   ]
  },
  {
   "cell_type": "markdown",
   "metadata": {},
   "source": [
    "## 13. App (Views.py)\n",
    "![django](https://miro.medium.com/max/1000/1*9K73mxvRXOB_SsqeLO-ygA.png)\n",
    " \n",
    " \n",
    " ### Runserver"
   ]
  },
  {
   "cell_type": "markdown",
   "metadata": {},
   "source": [
    "![django](https://d33wubrfki0l68.cloudfront.net/dfc6433abb5d042733f5cc09637e398dff845cec/0e070/images/django-hello-world.png)"
   ]
  },
  {
   "cell_type": "code",
   "execution_count": null,
   "metadata": {},
   "outputs": [],
   "source": []
  }
 ],
 "metadata": {
  "kernelspec": {
   "display_name": "Python 3",
   "language": "python",
   "name": "python3"
  },
  "language_info": {
   "codemirror_mode": {
    "name": "ipython",
    "version": 3
   },
   "file_extension": ".py",
   "mimetype": "text/x-python",
   "name": "python",
   "nbconvert_exporter": "python",
   "pygments_lexer": "ipython3",
   "version": "3.8.3"
  }
 },
 "nbformat": 4,
 "nbformat_minor": 4
}
