{
 "cells": [
  {
   "cell_type": "markdown",
   "metadata": {},
   "source": [
    "# Django Templates\n",
    "let's suppose you want to create a gym website or any other complex website, and you want to include HTML to your website. How will you do it? We need a convenient way to include HTML dynamically, and templating in Django is the most common approach for including HTML."
   ]
  },
  {
   "cell_type": "markdown",
   "metadata": {},
   "source": [
    "## 1.Updating Settings For Template Creation\n",
    "Step 1: Open settings.py\n",
    "\n",
    "Step 2: Write--------- TEMPLATE_DIR=BASE_DIR/'templates'\n",
    "\n",
    "Step 3:Find 'DIRS' in settings.py. Write TEMPLATE_DIR inside the double quotes in DIRS. This is the folder where we will keep our html template files\n",
    "\n",
    "\n",
    "TEMPLATES = [\n",
    "    {\n",
    "        'BACKEND': 'django.template.backends.django.DjangoTemplates',\n",
    "        ### 'DIRS': [TEMPLATE_DIR],\n",
    "        'APP_DIRS': True,\n",
    "        'OPTIONS': {\n",
    "            'context_processors': [\n",
    "                'django.template.context_processors.debug',\n",
    "                'django.template.context_processors.request',\n",
    "                'django.contrib.auth.context_processors.auth',\n",
    "                'django.contrib.messages.context_processors.messages',\n",
    "            ],\n",
    "        },\n",
    "    },\n",
    "]"
   ]
  },
  {
   "cell_type": "markdown",
   "metadata": {},
   "source": [
    "## 2. Creating Template Folder  (on Project level)\n",
    "Step 1: Right click on the Poject folder.\n",
    "\n",
    "Step 2: Click on 'new'.\n",
    "\n",
    "Step 3: Click on the \"Directory\" and name the directory as \"templates\" then press Enter."
   ]
  },
  {
   "cell_type": "markdown",
   "metadata": {},
   "source": [
    "## 3. Creating base.html :\n",
    "Now, we are going to create a file named \"base.html\" inside the template folder.\n",
    "\n",
    "Step 1: Right-click on the template folder.\n",
    "\n",
    "Step 2: Click on \"New\"\n",
    "\n",
    "Step 3: Click on \"HTML file\" and name the file as \"base.html.\""
   ]
  },
  {
   "cell_type": "markdown",
   "metadata": {},
   "source": [
    "## 4. base.html code\n",
    "Step 1:write   html  \n",
    "       This code opens a boilerplate of html\n",
    "       \n",
    "  ![django](https://smartcodehelper.com/wp-content/uploads/2020/12/html-boilerplate-code-vs-code.png)\n",
    "      "
   ]
  },
  {
   "cell_type": "markdown",
   "metadata": {},
   "source": [
    "![django](https://smartcodehelper.com/wp-content/uploads/2020/12/vs-code-html-boiler-plate-shortcut-windows.png)\n",
    "\n",
    "\n",
    "Write your code in html file\n"
   ]
  },
  {
   "cell_type": "markdown",
   "metadata": {},
   "source": [
    "## 5. create views.py on project level\n",
    "Step 1: Right click on the Poject folder.\n",
    "\n",
    "Step 2: Click on 'new'.\n",
    "\n",
    "Step 3: Click on the \"file\" and name the file as \"views.py\" then press Enter.\n"
   ]
  },
  {
   "cell_type": "markdown",
   "metadata": {},
   "source": [
    "To return anything from this HTML file, we need to write some code in views.py file. Open views.py file and type the import statement given below\n",
    "#### from django.shortcuts import render\n",
    "#### def base(request):\n",
    "#### return render(request, 'base.html',{})\n"
   ]
  },
  {
   "cell_type": "markdown",
   "metadata": {},
   "source": [
    "render() function takes three arguments:\n",
    "\n",
    "1.request: It is the argument that is required to serve the input request.\n",
    "\n",
    "2.Name of the template file: The name of the template which we want to use. Here, we have passed \"index.html.\"\n",
    "\n",
    "3.Name of the dictionary: We can also pass a dictionary containing variables to the template if we want."
   ]
  },
  {
   "cell_type": "markdown",
   "metadata": {},
   "source": [
    "## 6. Mapping\n",
    "Step 1: open project's urls.py\n",
    "\n",
    "Step 2:\n",
    "\n",
    "from . import views\n",
    "\n",
    "path('base/', views.base, name='base'),"
   ]
  },
  {
   "cell_type": "markdown",
   "metadata": {},
   "source": [
    "## Restart the server and head over to http://127.0.0.1:8000/"
   ]
  },
  {
   "cell_type": "markdown",
   "metadata": {},
   "source": [
    "If you want to show any data on base.html\n",
    "\n",
    "Step 1:base.html\n",
    "\n",
    "<!DOCTYPE html>\n",
    "<html lang=\"en\">\n",
    "    <head>\n",
    "        <title>Base page</title>\n",
    "        <meta charset=\"UTF-8\">\n",
    "        <meta name=\"viewport\" content=\"width=device-width, initial-scale=1\">\n",
    "        <link href=\"css/style.css\" rel=\"stylesheet\">\n",
    "    </head>\n",
    "    <body>\n",
    "\n",
    "      <h1>{{data1}}</h1>\n",
    "      <h2>{{data2}}</h2>\n",
    "    </body>\n",
    "</html>\n"
   ]
  },
  {
   "cell_type": "markdown",
   "metadata": {},
   "source": [
    "Step 2:views.py\n",
    "\n",
    "def base(request):\n",
    "   return render(request,\n",
    "                   'base.html',\n",
    "                   {'data1':'Hello',\n",
    "                   'data2':'World'\n",
    "                   })\n",
    "    "
   ]
  },
  {
   "cell_type": "code",
   "execution_count": null,
   "metadata": {},
   "outputs": [],
   "source": []
  }
 ],
 "metadata": {
  "kernelspec": {
   "display_name": "Python 3",
   "language": "python",
   "name": "python3"
  },
  "language_info": {
   "codemirror_mode": {
    "name": "ipython",
    "version": 3
   },
   "file_extension": ".py",
   "mimetype": "text/x-python",
   "name": "python",
   "nbconvert_exporter": "python",
   "pygments_lexer": "ipython3",
   "version": "3.8.3"
  }
 },
 "nbformat": 4,
 "nbformat_minor": 4
}
