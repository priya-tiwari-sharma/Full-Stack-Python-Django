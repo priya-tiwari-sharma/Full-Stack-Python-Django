{
 "cells": [
  {
   "cell_type": "markdown",
   "metadata": {},
   "source": [
    "# Model Relationship"
   ]
  },
  {
   "cell_type": "markdown",
   "metadata": {},
   "source": [
    "Django models represent real-world entities, and it is rarely the case that real-world entities are entirely independent of each other. Hence Django supports relational databases and allows us to establish relations between different models.\n",
    "\n",
    "There are three types of relational fields which Django supports:\n",
    "1. many-to-one\n",
    "2. many-to-many\n",
    "3. one-to-one."
   ]
  },
  {
   "cell_type": "markdown",
   "metadata": {},
   "source": [
    "## Many-to-one fields:\n",
    "This is used when one record of a model A is related to multiple records of another model B. \n",
    "\n",
    "For example – a model **Song** has many-to-one relationship with a model **Album**, i.e. an album can have many songs, but one song cannot be part of multiple albums.\n",
    "\n",
    "##### Many-to-one relations are defined using ForeignKey field of django.db.models."
   ]
  },
  {
   "cell_type": "markdown",
   "metadata": {},
   "source": [
    "    from django.db import models\n",
    "\n",
    "    class Customer(models.Model):\n",
    "        name = models.CharField(max_length=255)\n",
    "        \n",
    "    class Vehicle(models.Model):\n",
    "        name = models.CharField(max_length=255)\n",
    "        customer = models.ForeignKey(Customer,on_delete=models.CASCADE,related_name='Vehicle')\n",
    "        \n",
    "Note:It is a good practice to name the many-to-one field with the same name as the related model, lowercase.\n",
    "\n"
   ]
  },
  {
   "cell_type": "markdown",
   "metadata": {},
   "source": [
    "EXample 2:\n",
    "\n",
    "![D](https://d2h0cx97tjks2p.cloudfront.net/blogs/wp-content/uploads/sites/2/2019/09/one-to-many-relationship.png)"
   ]
  },
  {
   "cell_type": "markdown",
   "metadata": {},
   "source": [
    "## Many-to-many fields:\n",
    "This is used when one record of a model A is related to multiple records of another model B and vice versa. For example – a model Book has many-to-many relationship with a model Author, i.e. an book can be written by multiple authors and an author can write multiple books. \n",
    "\n",
    "##### Many-to-many relations are defined using **ManyToManyField** field of django.db.models.\n",
    "\n",
    "Below is an example to demonstrate the same.\n",
    "\n",
    "    from django.db import models\n",
    "\n",
    "    class Worker(models.Model):\n",
    "        name = models.CharField(max_length=255)\n",
    "    class Machine(models.Model):\n",
    "        name = models.CharField(max_length=255)\n",
    "        workers = models.ManyToManyField(Worker,related_name='Machine')\n",
    "\n",
    "Note:It is a good practice to name the many-to-many field with the plural version of the related model, lowercase. It doesn’t matter which of the two models contain the many-to-many field, but it shouldn’t be put in both the models."
   ]
  },
  {
   "cell_type": "markdown",
   "metadata": {},
   "source": [
    "![d](https://d2h0cx97tjks2p.cloudfront.net/blogs/wp-content/uploads/sites/2/2019/09/many-to-many-relationship.png)\n",
    "\n",
    "Here we have multiple workers for multiple machines. A worker can be assigned to operate more than one machine. Also, a machine can be operated by multiple workers one at a time."
   ]
  },
  {
   "cell_type": "markdown",
   "metadata": {},
   "source": [
    "## One-to-one fields:\n",
    "This is used when one record of a model A is related to exactly one record of another model B. This field can be useful as a primary key of an object if that object extends another object in some way.\n",
    "\n",
    "    from django.db import models\n",
    "\n",
    "    class Customer(models.Model):\n",
    "        name = models.CharField(max_length=255)\n",
    "    class Vehicle(models.Model):\n",
    "        name = models.CharField(max_length=255)\n",
    "        customer = models.OneToOneField(Customer,on_delete=models.CASCADE,related_name='vehicle')\n",
    "\n"
   ]
  },
  {
   "cell_type": "markdown",
   "metadata": {},
   "source": [
    "There are two tables here, Customer and Vehicle. Every customer owns only one vehicle. Thus, a one-to-one relationship exists. "
   ]
  },
  {
   "cell_type": "markdown",
   "metadata": {},
   "source": [
    "![django](https://d2h0cx97tjks2p.cloudfront.net/blogs/wp-content/uploads/sites/2/2019/09/one-to-one-relationship.png)"
   ]
  },
  {
   "cell_type": "markdown",
   "metadata": {},
   "source": [
    "Note: It is a good practice to name the one-to-one field with the same name as that of the related model, lowercase."
   ]
  },
  {
   "cell_type": "markdown",
   "metadata": {},
   "source": [
    "## Data integrity options:\n",
    "Since we are creating models which depend on other models, we need to define the behavior of a record in one model when the corresponding record in the other is deleted. This is achieved by adding an optional on_delete parameter in the relational field, which can take the following values:\n",
    "\n",
    "1. **on_delete = models.CASCADE**– This is the default value. It automatically deletes all the related records when a record is deleted.(e.g. when an Customer record is deleted all the Vehicle records related to it will be deleted)\n",
    "2. **on_delete = models.PROTECT** – It blocks the deletion of a record having relation with other records.(e.g. any attempt to delete an Customer record will be blocked)\n",
    "3. **on_delete = models.SET_NULL** – It assigns NULL to the relational field when a record is deleted, provided null = True is set.\n",
    "4. **on_delete = models.SET_DEFAULT** – It assigns default values to the relational field when a record is deleted, a default value has to be provided.\n",
    "5. **on_delete = models.SET()** – It can either take a default value as parameter, or a callable, the return value of which will be assigned to the field.\n",
    "6. **on_delete = models.DO_NOTHING** – Takes no action. Its a bad practice to use this value."
   ]
  },
  {
   "cell_type": "code",
   "execution_count": null,
   "metadata": {},
   "outputs": [],
   "source": []
  }
 ],
 "metadata": {
  "kernelspec": {
   "display_name": "Python 3",
   "language": "python",
   "name": "python3"
  },
  "language_info": {
   "codemirror_mode": {
    "name": "ipython",
    "version": 3
   },
   "file_extension": ".py",
   "mimetype": "text/x-python",
   "name": "python",
   "nbconvert_exporter": "python",
   "pygments_lexer": "ipython3",
   "version": "3.8.3"
  }
 },
 "nbformat": 4,
 "nbformat_minor": 4
}
