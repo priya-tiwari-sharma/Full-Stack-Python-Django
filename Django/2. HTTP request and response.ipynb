{
 "cells": [
  {
   "cell_type": "markdown",
   "metadata": {},
   "source": [
    "# Django Request and Response\n",
    "The client-server architecture includes two major components request and response. The Django framework uses client-server architecture to implement web applications.\n",
    "\n",
    "When a client requests for a resource, a HttpRequest object is created and correspond view function is called that returns HttpResponse object.\n",
    "\n",
    "#### To handle request and response, Django provides HttpRequest and HttpResponse classes. Each class has it's own attributes and methods."
   ]
  },
  {
   "cell_type": "markdown",
   "metadata": {},
   "source": [
    "### Django HttpRequest\n",
    "This class is defined in the django.http module and used to handle the client request. Following are the attributes of this class."
   ]
  },
  {
   "cell_type": "markdown",
   "metadata": {},
   "source": [
    "|Attribute|\tDescription|\n",
    "|---------|------------|\n",
    "|HttpRequest.scheme\t|A string representing the scheme of the request (HTTP or HTTPs usually).|\n",
    "|HttpRequest.body\t|It returns the raw HTTP request body as a byte string.|\n",
    "|HttpRequest.path\t|It returns the full path to the requested page does not include the scheme or domain.|\n",
    "|HttpRequest.path_info\t|It shows path info portion of the path.|\n",
    "|HttpRequest.method|\tIt shows the HTTP method used in the request.|\n",
    "|HttpRequest.encoding\t|It shows the current encoding used to decode form submission data.|\n",
    "|HttpRequest.content_type|\tIt shows the MIME type of the request, parsed from the CONTENT_TYPE header.|\n",
    "|HttpRequest.content_params\t|It returns a dictionary of key/value parameters included in the CONTENT_TYPE header.|\n",
    "|HttpRequest.GET|\tIt returns a dictionary-like object containing all given HTTP GET parameters.|\n",
    "|HttpRequest.POST\t|It is a dictionary-like object containing all given HTTP POST parameters.|\n",
    "|HttpRequest.COOKIES\t|It returns all cookies available.|\n",
    "|HttpRequest.FILES\t|It contains all uploaded files.|\n",
    "|HttpRequest.META\t|It shows all available Http headers.|\n",
    "|HttpRequest.resolver_match|\tIt contains an instance of ResolverMatch representing the resolved URL.|"
   ]
  },
  {
   "cell_type": "markdown",
   "metadata": {},
   "source": [
    "### Django HttpRequest Methods\n",
    "\n",
    "|Attribute|\tDescription|\n",
    "|-----|-----|\n",
    "|HttpRequest.get_host()|\tIt returns the original host of the request.|\n",
    "|HttpRequest.get_port()\t|It returns the originating port of the request.|\n",
    "|HttpRequest.get_full_path()\t|It returns the path, plus an appended query string, if applicable.|\n",
    "|HttpRequest.build_absolute_uri (location)|\tIt returns the absolute URI form of location.|\n",
    "|HttpRequest.get_signed_cookie (key, default=RAISE_ERROR, salt='', max_age=None)\t|It returns a cookie value for a signed cookie, or raises a django.core.signing.BadSignature exception if the signature is no longer valid.|\n",
    "|HttpRequest.is_secure()|\tIt returns True if the request is secure; that is, if it was made with HTTPS.|\n",
    "|HttpRequest.is_ajax()|\tIt returns True if the request was made via an XMLHttpRequest.|"
   ]
  },
  {
   "cell_type": "markdown",
   "metadata": {},
   "source": [
    "### HTTP Status Codes\n",
    "These HTTP attributes are used to give more information to the client regarding the responses from the webserver. The most common and frequently used HTTP attributes that we need to learn are:\n",
    "\n",
    "#### 1. HTTP 200 – status OK.\n",
    "This means that the status is OK, which can be thought of as that everything was carried out correctly.\n",
    "\n",
    "#### 2. HTTP 201 – status created.\n",
    "This means that the status is created, we might use this one under Create/POST method.\n",
    "\n",
    "#### 3. HTTP 400 – Bad request.\n",
    "This means that the server will not process the request.\n",
    "\n",
    "#### 4. HTTP 404 – Not Found.\n",
    "This means that the server is unable to find the response that it needs to return\n",
    "\n"
   ]
  },
  {
   "cell_type": "markdown",
   "metadata": {},
   "source": [
    "### Adding HttpResponse in Views.py\n",
    "\n",
    "![django](https://cdn.askpython.com/wp-content/uploads/2020/07/text-response.png.webp)"
   ]
  },
  {
   "cell_type": "code",
   "execution_count": null,
   "metadata": {},
   "outputs": [],
   "source": []
  }
 ],
 "metadata": {
  "kernelspec": {
   "display_name": "Python 3",
   "language": "python",
   "name": "python3"
  },
  "language_info": {
   "codemirror_mode": {
    "name": "ipython",
    "version": 3
   },
   "file_extension": ".py",
   "mimetype": "text/x-python",
   "name": "python",
   "nbconvert_exporter": "python",
   "pygments_lexer": "ipython3",
   "version": "3.8.3"
  }
 },
 "nbformat": 4,
 "nbformat_minor": 4
}
