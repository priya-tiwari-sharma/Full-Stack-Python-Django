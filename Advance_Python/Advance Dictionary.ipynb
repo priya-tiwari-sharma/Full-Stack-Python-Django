{
 "cells": [
  {
   "cell_type": "markdown",
   "metadata": {},
   "source": [
    "# Python Dictionary"
   ]
  },
  {
   "cell_type": "markdown",
   "metadata": {},
   "source": [
    "#### Dictionary in Python is an unordered collection of data values.Dictionary holds key:value pair. Key value is provided in the dictionary to make it more optimized.\n",
    "## Dictionary Methods\n",
    "#### Items, Keys, and Values\n"
   ]
  },
  {
   "cell_type": "markdown",
   "metadata": {},
   "source": [
    "#### These methods work to break down dictionaries into other data structures to make working with them much more manageable.\n",
    "#### items()- It breaks down each entry in the dictionary into a tuple and stores them all in a list."
   ]
  },
  {
   "cell_type": "code",
   "execution_count": 10,
   "metadata": {},
   "outputs": [
    {
     "name": "stdout",
     "output_type": "stream",
     "text": [
      "dict_items([('fruit', 'orange'), ('Vegitable', 'spinach'), ('cab', 'uber'), ('place', 'Jummu Kashmir')])\n"
     ]
    }
   ],
   "source": [
    "sample_dict = {'fruit': 'orange',\n",
    "                        'Vegitable': 'spinach',\n",
    "                        'cab': 'uber',\n",
    "                        'place': 'Jummu Kashmir',\n",
    "                        \n",
    "}\n",
    "sample_dict_list = sample_dict.items()\n",
    "print(sample_dict_list)"
   ]
  },
  {
   "cell_type": "markdown",
   "metadata": {},
   "source": [
    "#### keys()-The next method gives you access to the keys in the dictionary in the form of a list.\n"
   ]
  },
  {
   "cell_type": "code",
   "execution_count": 11,
   "metadata": {},
   "outputs": [
    {
     "name": "stdout",
     "output_type": "stream",
     "text": [
      "dict_keys(['fruit', 'Vegitable', 'cab', 'place'])\n"
     ]
    }
   ],
   "source": [
    "sample_dict = {'fruit': 'orange',\n",
    "                        'Vegitable': 'spinach',\n",
    "                        'cab': 'uber',\n",
    "                        'place': 'Jummu Kashmir',\n",
    "                        \n",
    "}\n",
    "sample_dict_list = sample_dict.keys()\n",
    "print(sample_dict_list)"
   ]
  },
  {
   "cell_type": "markdown",
   "metadata": {},
   "source": [
    "#### values()-The last method is the same the one before it, but instead of retrieving the keys, this one get the values."
   ]
  },
  {
   "cell_type": "code",
   "execution_count": 12,
   "metadata": {},
   "outputs": [
    {
     "name": "stdout",
     "output_type": "stream",
     "text": [
      "dict_values(['orange', 'spinach', 'uber', 'Jummu Kashmir'])\n"
     ]
    }
   ],
   "source": [
    "sample_dict = {'fruit': 'orange',\n",
    "                        'Vegitable': 'spinach',\n",
    "                        'cab': 'uber',\n",
    "                        'place': 'Jummu Kashmir',\n",
    "                        \n",
    "}\n",
    "sample_dict_list = sample_dict.values()\n",
    "print(sample_dict_list)"
   ]
  },
  {
   "cell_type": "markdown",
   "metadata": {},
   "source": [
    "#### get()-Instead of using indexing as other container types do, dictionaries use keys. Keys can be used either inside a square bracket or using the get() method."
   ]
  },
  {
   "cell_type": "code",
   "execution_count": 30,
   "metadata": {},
   "outputs": [
    {
     "name": "stdout",
     "output_type": "stream",
     "text": [
      "orange\n"
     ]
    }
   ],
   "source": [
    "sample_dict = {'fruit': 'orange',\n",
    "                        'Vegitable': 'spinach',\n",
    "                        'cab': 'uber',\n",
    "                        'place': 'Jummu Kashmir',\n",
    "                        \n",
    "}\n",
    "sample_dict_list = sample_dict.get('fruit')\n",
    "print(sample_dict_list)"
   ]
  },
  {
   "cell_type": "markdown",
   "metadata": {},
   "source": [
    "# Nested Dictionary:"
   ]
  },
  {
   "cell_type": "code",
   "execution_count": 17,
   "metadata": {},
   "outputs": [
    {
     "data": {
      "text/html": [
       "<img src=\"https://media.geeksforgeeks.org/wp-content/uploads/Dictionary-Creation-1.jpg\">"
      ],
      "text/plain": [
       "<IPython.core.display.HTML object>"
      ]
     },
     "metadata": {},
     "output_type": "display_data"
    }
   ],
   "source": [
    "from IPython.core.display import display, HTML\n",
    "display(HTML('<img src=\"https://media.geeksforgeeks.org/wp-content/uploads/Dictionary-Creation-1.jpg\">'))"
   ]
  },
  {
   "cell_type": "code",
   "execution_count": 18,
   "metadata": {},
   "outputs": [
    {
     "name": "stdout",
     "output_type": "stream",
     "text": [
      "{1: 'Geeks', 2: 'For', 3: {'A': 'Welcome', 'B': 'To', 'C': 'Geeks'}}\n"
     ]
    }
   ],
   "source": [
    "# Creating a Nested Dictionary \n",
    "# as shown in the below image\n",
    "Dict = {1: 'Geeks', 2: 'For', \n",
    "        3:{'A' : 'Welcome', 'B' : 'To', 'C' : 'Geeks'}}\n",
    "  \n",
    "print(Dict) "
   ]
  },
  {
   "cell_type": "markdown",
   "metadata": {},
   "source": [
    "## Adding elements to a Dictionary"
   ]
  },
  {
   "cell_type": "markdown",
   "metadata": {},
   "source": [
    "#### In Python Dictionary, Addition of elements can be done in multiple ways. One value at a time can be added to a Dictionary by defining value along with the key e.g. Dict[Key] = ‘Value’. Updating an existing value in a Dictionary can be done by using the built-in update() method. Nested key values can also be added to an existing Dictionary.\n",
    "#### Note- While adding a value, if the key value already exists, the value gets updated otherwise a new Key with the value is added to the Dictionary."
   ]
  },
  {
   "cell_type": "code",
   "execution_count": 20,
   "metadata": {},
   "outputs": [
    {
     "name": "stdout",
     "output_type": "stream",
     "text": [
      "Empty Dictionary: \n",
      "{}\n",
      "\n",
      "Dictionary after adding 3 elements: \n",
      "{0: 'Hello', 2: 'world', 3: 1}\n",
      "\n",
      "Dictionary after adding 3 elements: \n",
      "{0: 'Hello', 2: 'world', 3: 1, 'Value_set': (2, 3, 4)}\n",
      "\n",
      "Updated key value: \n",
      "{0: 'Hello', 2: 'Welcome', 3: 1, 'Value_set': (2, 3, 4)}\n",
      "\n",
      "Adding a Nested Key: \n",
      "{0: 'Hello', 2: 'Welcome', 3: 1, 'Value_set': (2, 3, 4), 5: {'Nested': {'1': 'Life', '2': 'breath'}}}\n"
     ]
    }
   ],
   "source": [
    "# Creating an empty Dictionary\n",
    "Dict = {}\n",
    "print(\"Empty Dictionary: \")\n",
    "print(Dict)\n",
    "  \n",
    "# Adding elements one at a time\n",
    "Dict[0] = 'Hello'\n",
    "Dict[2] = 'world'\n",
    "Dict[3] = 1\n",
    "print(\"\\nDictionary after adding 3 elements: \")\n",
    "print(Dict)\n",
    "  \n",
    "# Adding set of values \n",
    "# to a single Key\n",
    "Dict['Value_set'] = 2, 3, 4\n",
    "print(\"\\nDictionary after adding 3 elements: \")\n",
    "print(Dict)\n",
    "  \n",
    "# Updating existing Key's Value\n",
    "Dict[2] = 'Welcome'\n",
    "print(\"\\nUpdated key value: \")\n",
    "print(Dict)\n",
    "  \n",
    "# Adding Nested Key value to Dictionary\n",
    "Dict[5] = {'Nested' :{'1' : 'Life', '2' : 'breath'}}\n",
    "print(\"\\nAdding a Nested Key: \")\n",
    "print(Dict)"
   ]
  },
  {
   "cell_type": "markdown",
   "metadata": {},
   "source": [
    "# Merge Two Dictionaries"
   ]
  },
  {
   "cell_type": "markdown",
   "metadata": {},
   "source": [
    "#### Since Python 3.5, it’s been possible to easily merge two dictionaries, using **kwargs\n",
    "#### Beginning in Python 3.9, you can use the union operator (|) to combine two dictionaries"
   ]
  },
  {
   "cell_type": "code",
   "execution_count": 23,
   "metadata": {},
   "outputs": [
    {
     "name": "stdout",
     "output_type": "stream",
     "text": [
      "{'a': 1, 'b': 2, 'c': 3, 'd': 4}\n"
     ]
    }
   ],
   "source": [
    "#using **kwargs\n",
    "dict1 = {'a': 1, 'b': 2}\n",
    "dict2 = {'c': 3, 'd': 4}\n",
    "\n",
    "dict3 = {**dict1, **dict2}\n",
    "print(dict3)\n"
   ]
  },
  {
   "cell_type": "code",
   "execution_count": 25,
   "metadata": {},
   "outputs": [],
   "source": [
    "# using union operator (|)(MY Version is older)\n",
    "dict1 = {'a':1, 'b':2}\n",
    "dict2 = {'c':3, 'd':4}\n",
    "\n",
    "dict3 = dict1 | dict2"
   ]
  },
  {
   "cell_type": "markdown",
   "metadata": {},
   "source": [
    "# Check if a Key Exists in a Dictionary\n",
    "#### To see if a key exists in a dictionary, you can use the 'in' keyword."
   ]
  },
  {
   "cell_type": "code",
   "execution_count": 26,
   "metadata": {},
   "outputs": [
    {
     "name": "stdout",
     "output_type": "stream",
     "text": [
      "True\n",
      "False\n"
     ]
    }
   ],
   "source": [
    "dict1 = {'a': 1, 'b': 2}\n",
    "\n",
    "print('a' in dict1)\n",
    "print('c' in dict1)"
   ]
  },
  {
   "cell_type": "markdown",
   "metadata": {},
   "source": [
    "# Remove an Item from a Dictionary\n",
    "#### To easily remove a dictionary, you can use the pop function. The pop function returns the value of the key being removed.\n",
    "#### Pop accepts two arguments (key to drop, default value if key is not found).\n"
   ]
  },
  {
   "cell_type": "code",
   "execution_count": 28,
   "metadata": {},
   "outputs": [
    {
     "name": "stdout",
     "output_type": "stream",
     "text": [
      "1\n",
      "Missing Key\n"
     ]
    },
    {
     "ename": "KeyError",
     "evalue": "'d'",
     "output_type": "error",
     "traceback": [
      "\u001b[1;31m---------------------------------------------------------------------------\u001b[0m",
      "\u001b[1;31mKeyError\u001b[0m                                  Traceback (most recent call last)",
      "\u001b[1;32m<ipython-input-28-d491ecf5f285>\u001b[0m in \u001b[0;36m<module>\u001b[1;34m\u001b[0m\n\u001b[0;32m      3\u001b[0m \u001b[0mprint\u001b[0m\u001b[1;33m(\u001b[0m\u001b[0mdict1\u001b[0m\u001b[1;33m.\u001b[0m\u001b[0mpop\u001b[0m\u001b[1;33m(\u001b[0m\u001b[1;34m'a'\u001b[0m\u001b[1;33m)\u001b[0m\u001b[1;33m)\u001b[0m\u001b[1;33m\u001b[0m\u001b[1;33m\u001b[0m\u001b[0m\n\u001b[0;32m      4\u001b[0m \u001b[0mprint\u001b[0m\u001b[1;33m(\u001b[0m\u001b[0mdict1\u001b[0m\u001b[1;33m.\u001b[0m\u001b[0mpop\u001b[0m\u001b[1;33m(\u001b[0m\u001b[1;34m'c'\u001b[0m\u001b[1;33m,\u001b[0m \u001b[1;34m'Missing Key'\u001b[0m\u001b[1;33m)\u001b[0m\u001b[1;33m)\u001b[0m \u001b[1;31m# if c is not found returns a msg\u001b[0m\u001b[1;33m\u001b[0m\u001b[1;33m\u001b[0m\u001b[0m\n\u001b[1;32m----> 5\u001b[1;33m \u001b[0mprint\u001b[0m\u001b[1;33m(\u001b[0m\u001b[0mdict1\u001b[0m\u001b[1;33m.\u001b[0m\u001b[0mpop\u001b[0m\u001b[1;33m(\u001b[0m\u001b[1;34m'd'\u001b[0m\u001b[1;33m)\u001b[0m\u001b[1;33m)\u001b[0m \u001b[1;31m# d is not found\u001b[0m\u001b[1;33m\u001b[0m\u001b[1;33m\u001b[0m\u001b[0m\n\u001b[0m",
      "\u001b[1;31mKeyError\u001b[0m: 'd'"
     ]
    }
   ],
   "source": [
    "dict1 = {'a': 1, 'b': 2}\n",
    "\n",
    "print(dict1.pop('a'))\n",
    "print(dict1.pop('c', 'Missing Key')) # if c is not found returns a msg\n",
    "print(dict1.pop('d')) # d doesn't exist "
   ]
  },
  {
   "cell_type": "markdown",
   "metadata": {},
   "source": [
    "# Dictionary Comprehensions\n",
    "#### Python Dictionary Comprehensions can allow you to easily iterate over both the key and the value.\n",
    "#### An easy-to-explain example to demonstrate this would be to build a dictionary where the key is a number and the value is the number squared:"
   ]
  },
  {
   "cell_type": "code",
   "execution_count": 31,
   "metadata": {},
   "outputs": [
    {
     "data": {
      "text/html": [
       "<img src=\"https://datagy.io/wp-content/uploads/2020/04/Python-Dictionary-Comprehension-Syntax.png\">"
      ],
      "text/plain": [
       "<IPython.core.display.HTML object>"
      ]
     },
     "metadata": {},
     "output_type": "display_data"
    }
   ],
   "source": [
    "from IPython.core.display import display, HTML\n",
    "display(HTML('<img src=\"https://datagy.io/wp-content/uploads/2020/04/Python-Dictionary-Comprehension-Syntax.png\">'))\n"
   ]
  },
  {
   "cell_type": "code",
   "execution_count": 29,
   "metadata": {},
   "outputs": [
    {
     "name": "stdout",
     "output_type": "stream",
     "text": [
      "{1: 1, 2: 4, 3: 9, 4: 16, 5: 25, 6: 36, 7: 49, 8: 64, 9: 81, 10: 100}\n"
     ]
    }
   ],
   "source": [
    "# Example-1\n",
    "dict1 = {i:i**2 for i in range(1,11)}\n",
    "print(dict1)"
   ]
  },
  {
   "cell_type": "code",
   "execution_count": 32,
   "metadata": {},
   "outputs": [
    {
     "name": "stdout",
     "output_type": "stream",
     "text": [
      "{'book': 1.1, 'milk': 4.4, 'tv': 15.400000000000002}\n"
     ]
    }
   ],
   "source": [
    "# Example-2: Changing from Kilograms to Pounds\n",
    "# Imagine we had a dictionary that contained a weights for items in kilograms and we wanted to convert those weights to pounds:\n",
    "old_weights = {\n",
    "    'book': 0.5,\n",
    "    'milk': 2.0,\n",
    "    'tv': 7.0\n",
    "}\n",
    "new_weights = {key: value*2.2 for (key, value) in old_weights.items()}\n",
    "print(new_weights)"
   ]
  },
  {
   "cell_type": "markdown",
   "metadata": {},
   "source": [
    "### Add Conditions\n",
    "### only if statement\n",
    "#### dict = {k:v for var in iterable if condition}"
   ]
  },
  {
   "cell_type": "code",
   "execution_count": 33,
   "metadata": {},
   "outputs": [
    {
     "name": "stdout",
     "output_type": "stream",
     "text": [
      "{'evan': 31, 'nik': 31}\n"
     ]
    }
   ],
   "source": [
    "#Use of only If\n",
    "ages = {\n",
    "    'kevin': 12,\n",
    "    'marcus': 9,\n",
    "    'evan': 31,\n",
    "    'nik': 31\n",
    "}\n",
    "new_ages = {key:value for (key, value) in ages.items() if value > 25}\n",
    "print(new_ages)"
   ]
  },
  {
   "cell_type": "markdown",
   "metadata": {},
   "source": [
    "### Multiple IF Statements\n",
    "#### For example, if we wanted to filter our ages list to only include people younger than 25 and having an even age (where the age modulus 2 returns 0), we could write:\n"
   ]
  },
  {
   "cell_type": "code",
   "execution_count": 34,
   "metadata": {},
   "outputs": [
    {
     "name": "stdout",
     "output_type": "stream",
     "text": [
      "{'kevin': 12}\n"
     ]
    }
   ],
   "source": [
    "# Multiple if\n",
    "ages = {\n",
    "    'kevin': 12,\n",
    "    'marcus': 9,\n",
    "    'evan': 31,\n",
    "    'nik': 31\n",
    "}\n",
    "younger = {key:value for (key, value) in ages.items() if value < 25 if value % 2 == 0}\n",
    "print(younger)"
   ]
  },
  {
   "cell_type": "markdown",
   "metadata": {},
   "source": [
    "### If Else\n",
    "#### example, if we wanted to label the ages as odd or even, we could write the following:\n"
   ]
  },
  {
   "cell_type": "code",
   "execution_count": 38,
   "metadata": {},
   "outputs": [
    {
     "name": "stdout",
     "output_type": "stream",
     "text": [
      "{'kevin': 'even', 'marcus': 'odd', 'evan': 'odd', 'nik': 'odd'}\n"
     ]
    }
   ],
   "source": [
    "ages = {\n",
    "    'kevin': 12,\n",
    "    'marcus': 9,\n",
    "    'evan': 31,\n",
    "    'nik': 31\n",
    "}\n",
    "oddeven = {key:('odd' if value % 2 == 1 else 'even') for (key, value) in ages.items()}\n",
    "print(oddeven)"
   ]
  },
  {
   "cell_type": "markdown",
   "metadata": {},
   "source": [
    "## Nested Dictionary Comprehension"
   ]
  },
  {
   "cell_type": "markdown",
   "metadata": {},
   "source": [
    "#### The Value in the Key:Value pair can also be another dictionary comprehension.\n",
    "#### Say we wanted to have a dictionary that contains keys of the values of 1 through 5, and each value is another dictionary that contains the key multiplied by intervals of 10 from 10 through 50."
   ]
  },
  {
   "cell_type": "code",
   "execution_count": 37,
   "metadata": {},
   "outputs": [
    {
     "name": "stdout",
     "output_type": "stream",
     "text": [
      "{10: {1: 10, 2: 20, 3: 30, 4: 40, 5: 50}, 20: {1: 20, 2: 40, 3: 60, 4: 80, 5: 100}, 30: {1: 30, 2: 60, 3: 90, 4: 120, 5: 150}, 40: {1: 40, 2: 80, 3: 120, 4: 160, 5: 200}, 50: {1: 50, 2: 100, 3: 150, 4: 200, 5: 250}}\n",
      "\n"
     ]
    }
   ],
   "source": [
    "mutiples = {\n",
    "    key1: {\n",
    "        key2: key1 * key2 \n",
    "        for key2 in range(1, 6)\n",
    "        } \n",
    "    for key1 in range(10, 60, 10)\n",
    "}\n",
    "print(mutiples)\n"
   ]
  },
  {
   "cell_type": "markdown",
   "metadata": {},
   "source": [
    "# Enumerate Function with Dictionary Comprehensions"
   ]
  },
  {
   "cell_type": "code",
   "execution_count": 39,
   "metadata": {},
   "outputs": [
    {
     "name": "stdout",
     "output_type": "stream",
     "text": [
      "{0: 'Harry', 1: 'Hermione', 2: 'Ron', 3: 'Neville', 4: 'Luna'}\n"
     ]
    }
   ],
   "source": [
    "names = ['Harry', 'Hermione', 'Ron', 'Neville', 'Luna']\n",
    "index = {k:v for (k, v) in enumerate(names)}\n",
    "print(index)"
   ]
  },
  {
   "cell_type": "code",
   "execution_count": null,
   "metadata": {},
   "outputs": [],
   "source": []
  }
 ],
 "metadata": {
  "kernelspec": {
   "display_name": "Python 3",
   "language": "python",
   "name": "python3"
  },
  "language_info": {
   "codemirror_mode": {
    "name": "ipython",
    "version": 3
   },
   "file_extension": ".py",
   "mimetype": "text/x-python",
   "name": "python",
   "nbconvert_exporter": "python",
   "pygments_lexer": "ipython3",
   "version": "3.8.3"
  }
 },
 "nbformat": 4,
 "nbformat_minor": 4
}
