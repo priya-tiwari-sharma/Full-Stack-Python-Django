{
 "cells": [
  {
   "cell_type": "markdown",
   "metadata": {},
   "source": [
    "# Advance Lists and Dictionaries"
   ]
  },
  {
   "cell_type": "markdown",
   "metadata": {},
   "source": [
    "### Python\n",
    "#### Python is a general-purpose, versatile, and powerful programming language. It’s a great first language because it’s concise and easy to read. Whatever you want to do, Python can do it. From web development to machine learning to data science."
   ]
  },
  {
   "cell_type": "code",
   "execution_count": null,
   "metadata": {},
   "outputs": [],
   "source": [
    "# We can conclude this tutorial using the below pointers:\n",
    "# --------------------------------------------------------------\n",
    "# 1) Python Sort List\n",
    "# 2) Sorted function\n",
    "# 3) Python Reverse List\n",
    "# 4) Python List Index\n",
    "# 5) Python Copy List\n",
    "# 6) Python Join List\n",
    "# 7) Python Sum List function\n",
    "# 8) Python Remove Duplicates from the List\n",
    "# 9) List Comprehension\n",
    "#    -List Comprehensions vs Lambda functions\n",
    "#    -Conditionals in List Comprehension\n",
    "#      =Filtering a list(filter function)\n",
    "#      =Modifying list(map function)\n",
    "#    -Nested Loops in List Comprehension\n",
    "# 10) Combining lists(zip function)\n",
    "# 11) Finding the most common item\n",
    "# 12) Checking for membership in a list\n",
    "# 13) Flatten a list of lists\n"
   ]
  },
  {
   "cell_type": "markdown",
   "metadata": {},
   "source": [
    "## List - Methods and Techniques\n",
    "#### A list in Python is a collection of items which can contain elements of multiple data types, which may be either numeric, character logical values, etc. It is an ordered collection supporting negative indexing. A list can be created using [ ] containing data values.\n",
    "##### sample_list = [1,\"Yash\",['a','e']]"
   ]
  },
  {
   "cell_type": "markdown",
   "metadata": {},
   "source": [
    " ### One of the most powerful data structures in Python is the list; here are some more advanced list uses\n",
    " #### 1. Python lists natively support being utilized as queues, stacks, and arrays. \n",
    " #### 2. A single list may contain DataTypes like Integers, Strings, as well as Objects.\n",
    " #### 3. Lists are mutable, and hence, they can be altered even after their creation."
   ]
  },
  {
   "cell_type": "code",
   "execution_count": 65,
   "metadata": {},
   "outputs": [
    {
     "data": {
      "text/html": [
       "<img src=\"https://cdn.programiz.com/sites/tutorial2program/files/python-list-index.png\">"
      ],
      "text/plain": [
       "<IPython.core.display.HTML object>"
      ]
     },
     "metadata": {},
     "output_type": "display_data"
    }
   ],
   "source": [
    "from IPython.core.display import display, HTML\n",
    "display(HTML('<img src=\"https://cdn.programiz.com/sites/tutorial2program/files/python-list-index.png\">'))\n"
   ]
  },
  {
   "cell_type": "markdown",
   "metadata": {},
   "source": [
    "# 1) Python Sort List\n",
    "#### The sort() method is used to sort the elements in a specific order i.e. Ascending or Descending.If you want to sort the elements in Ascending order, then you can use the following syntax."
   ]
  },
  {
   "cell_type": "code",
   "execution_count": 13,
   "metadata": {},
   "outputs": [
    {
     "data": {
      "text/plain": [
       "[1, 5, 14, 21, 36]"
      ]
     },
     "execution_count": 13,
     "metadata": {},
     "output_type": "execute_result"
    }
   ],
   "source": [
    "l=[1,21,36,14,5]\n",
    "#For ascending order: \n",
    "# sorting in ascending order it permanently \n",
    "# changes the order of the list\n",
    "l.sort()\n",
    "l"
   ]
  },
  {
   "cell_type": "code",
   "execution_count": 66,
   "metadata": {},
   "outputs": [
    {
     "data": {
      "text/plain": [
       "['abc', 'acd', 'fff', 'xyz']"
      ]
     },
     "execution_count": 66,
     "metadata": {},
     "output_type": "execute_result"
    }
   ],
   "source": [
    "#For descending order: \n",
    "# sorting in descending order it permanently \n",
    "# changes the order of the list\n",
    "l.sort(reverse=True)\n",
    "l\n",
    "list1=[\"abc\",\"acd\",\"xyz\",\"fff\"]\n",
    "list1.sort()\n",
    "list1"
   ]
  },
  {
   "cell_type": "markdown",
   "metadata": {},
   "source": [
    "# 2) Sorted function\n",
    "#### In order to maintain the original order of the list that is present in sorted order, you can use the sorted() function. The sorted() function allows you to display your list in a particular order, without affecting the actual order of the list."
   ]
  },
  {
   "cell_type": "code",
   "execution_count": 15,
   "metadata": {},
   "outputs": [
    {
     "name": "stdout",
     "output_type": "stream",
     "text": [
      "['Aman', 'Danny', 'Harsh']\n",
      "['Harsh', 'Aman', 'Danny']\n"
     ]
    }
   ],
   "source": [
    "# temporary sorting using sorted() method\n",
    "Students = ['Harsh', 'Aman', 'Danny']\n",
    "print(sorted(Students)) #temporary sorted list\n",
    "print(Students) #orignal list"
   ]
  },
  {
   "cell_type": "markdown",
   "metadata": {},
   "source": [
    "# 3) Python Reverse List\n",
    "#### In order to reverse the original order of a list, you can use the reverse() method. The reverse() method is used to reverse the sequence of the list and not to arrange it in a sorted order like the sort() method."
   ]
  },
  {
   "cell_type": "code",
   "execution_count": 16,
   "metadata": {},
   "outputs": [
    {
     "name": "stdout",
     "output_type": "stream",
     "text": [
      "[10, 24, 90, 20, 5]\n"
     ]
    }
   ],
   "source": [
    "# reverse a list using reverse()\n",
    "my_list = [5, 20, 90, 24, 10]\n",
    "  \n",
    "# reverse\n",
    "my_list.reverse()\n",
    "print(my_list)"
   ]
  },
  {
   "cell_type": "markdown",
   "metadata": {},
   "source": [
    "#### Or we could apply list comprehension to reverse a list:"
   ]
  },
  {
   "cell_type": "code",
   "execution_count": 17,
   "metadata": {},
   "outputs": [
    {
     "name": "stdout",
     "output_type": "stream",
     "text": [
      "[10, 24, 90, 92, 5]\n"
     ]
    }
   ],
   "source": [
    "# reverse using list comprehension\n",
    "my_list = [5, 92, 90, 24, 10]\n",
    "  \n",
    "# reverse\n",
    "print(my_list[::-1])"
   ]
  },
  {
   "cell_type": "markdown",
   "metadata": {},
   "source": [
    "# 4) Python List Index\n",
    "#### Index method is used to find a given element in the list and return to its position.If the same element is present more than once, then it returns the position of the first element. The index in python starts from 0."
   ]
  },
  {
   "cell_type": "code",
   "execution_count": 19,
   "metadata": {},
   "outputs": [
    {
     "data": {
      "text/plain": [
       "2"
      ]
     },
     "execution_count": 19,
     "metadata": {},
     "output_type": "execute_result"
    }
   ],
   "source": [
    "my_list = [5, 92, 90, 24, 10]\n",
    "\n",
    "#index of present element\n",
    "print(my_list.index(90))"
   ]
  },
  {
   "cell_type": "markdown",
   "metadata": {},
   "source": [
    "#### If you search for an element which is not present in the list, then You will get an error."
   ]
  },
  {
   "cell_type": "code",
   "execution_count": 20,
   "metadata": {},
   "outputs": [
    {
     "ename": "ValueError",
     "evalue": "9 is not in list",
     "output_type": "error",
     "traceback": [
      "\u001b[1;31m---------------------------------------------------------------------------\u001b[0m",
      "\u001b[1;31mValueError\u001b[0m                                Traceback (most recent call last)",
      "\u001b[1;32m<ipython-input-20-3e8554a977cf>\u001b[0m in \u001b[0;36m<module>\u001b[1;34m\u001b[0m\n\u001b[0;32m      1\u001b[0m \u001b[0mmy_list\u001b[0m \u001b[1;33m=\u001b[0m \u001b[1;33m[\u001b[0m\u001b[1;36m5\u001b[0m\u001b[1;33m,\u001b[0m \u001b[1;36m92\u001b[0m\u001b[1;33m,\u001b[0m \u001b[1;36m90\u001b[0m\u001b[1;33m,\u001b[0m \u001b[1;36m24\u001b[0m\u001b[1;33m,\u001b[0m \u001b[1;36m10\u001b[0m\u001b[1;33m]\u001b[0m\u001b[1;33m\u001b[0m\u001b[1;33m\u001b[0m\u001b[0m\n\u001b[0;32m      2\u001b[0m \u001b[1;33m\u001b[0m\u001b[0m\n\u001b[1;32m----> 3\u001b[1;33m \u001b[0mprint\u001b[0m\u001b[1;33m(\u001b[0m\u001b[0mmy_list\u001b[0m\u001b[1;33m.\u001b[0m\u001b[0mindex\u001b[0m\u001b[1;33m(\u001b[0m\u001b[1;36m9\u001b[0m\u001b[1;33m)\u001b[0m\u001b[1;33m)\u001b[0m\u001b[1;33m\u001b[0m\u001b[1;33m\u001b[0m\u001b[0m\n\u001b[0m",
      "\u001b[1;31mValueError\u001b[0m: 9 is not in list"
     ]
    }
   ],
   "source": [
    "my_list = [5, 92, 90, 24, 10]\n",
    "\n",
    "print(my_list.index(9))"
   ]
  },
  {
   "cell_type": "markdown",
   "metadata": {},
   "source": [
    "# 5) Python Copy List\n",
    "#### In order to copy a list, you can make a slice that includes the complete original list by omitting the first index and the second index ([:]). This, in turn, will tell Python to make a slice that starts at the first item and ends with the last item, by producing a copy of the entire list."
   ]
  },
  {
   "cell_type": "code",
   "execution_count": 24,
   "metadata": {},
   "outputs": [
    {
     "name": "stdout",
     "output_type": "stream",
     "text": [
      "list1- ['John', 25, 0.25]\n",
      "list2- ['John', 25, 0.25]\n"
     ]
    }
   ],
   "source": [
    "list1=[\"John\",25,0.25]\n",
    "\n",
    "# copping a list\n",
    "list2=list1[:]\n",
    "print(\"list1-\",list1)\n",
    "print(\"list2-\",list2)"
   ]
  },
  {
   "cell_type": "markdown",
   "metadata": {},
   "source": [
    "# 6) Python Join List\n",
    "#### Python join list means concatenating a list of strings to form a string. Sometimes it’s useful when you have to convert a list to string. For Example, convert a list to a comma separated string to save in a file."
   ]
  },
  {
   "cell_type": "code",
   "execution_count": 29,
   "metadata": {},
   "outputs": [
    {
     "name": "stdout",
     "output_type": "stream",
     "text": [
      "space seprater- This world is beautiful\n",
      "comma seprater- This,world,is,beautiful\n"
     ]
    }
   ],
   "source": [
    "my_list = ['This', 'world', 'is','beautiful']\n",
    "\n",
    "# join using space\n",
    "my_list_join=\" \".join(my_list)\n",
    "print(\"space seprater-\",my_list_join)\n",
    "\n",
    "# join using comma\n",
    "my_list_join=\",\".join(my_list)\n",
    "print(\"comma seprater-\",my_list_join)\n"
   ]
  },
  {
   "cell_type": "markdown",
   "metadata": {},
   "source": [
    "# 7) Python Sum List function\n",
    "#### Python provides an in-built function called sum() which sums up the numbers in the list."
   ]
  },
  {
   "cell_type": "code",
   "execution_count": 31,
   "metadata": {},
   "outputs": [
    {
     "data": {
      "text/plain": [
       "221"
      ]
     },
     "execution_count": 31,
     "metadata": {},
     "output_type": "execute_result"
    }
   ],
   "source": [
    "my_list = [5, 92, 90, 24, 10]\n",
    "\n",
    "#sum of all element\n",
    "sum(my_list)"
   ]
  },
  {
   "cell_type": "markdown",
   "metadata": {},
   "source": [
    "# 8) Python Remove Duplicates from the List\n",
    "#### As dictionaries in python do not contain duplicate keys. We use the --dict.fromkeys()-- function to convert our list into a dictionary with list elements as keys. And then we convert the dictionary back to list. This is a powerful trick to automatically remove all the duplicates. Its syntax is:"
   ]
  },
  {
   "cell_type": "code",
   "execution_count": 32,
   "metadata": {},
   "outputs": [
    {
     "name": "stdout",
     "output_type": "stream",
     "text": [
      "[5, 2, 90, 24, 10, 34]\n",
      "['a', 'b', 'c', 'd', 'e']\n"
     ]
    }
   ],
   "source": [
    "# removig duplicates from a list using dictionaries\n",
    "  \n",
    "my_list_1 = [5, 2, 90, 24, 10, 2, 90, 34]\n",
    "my_list_2 = ['a', 'a', 'a', 'b', 'c', 'd', 'd', 'e']\n",
    "  \n",
    "# removing duplicates from list 1\n",
    "my_list_1 = list(dict.fromkeys(my_list_1))\n",
    "print(my_list_1)\n",
    "  \n",
    "# removing duplicates from list 2\n",
    "my_list_2 = list(dict.fromkeys(my_list_2))\n",
    "print(my_list_2)"
   ]
  },
  {
   "cell_type": "markdown",
   "metadata": {},
   "source": [
    "# 9) List Comprehension\n",
    "#### Suppose, we want to separate the letters of the word human and add the letters as items of a list. The first thing that comes in mind would be using for loop. \n",
    "#### Syntax of List Comprehension [expression for item in list]\n"
   ]
  },
  {
   "cell_type": "code",
   "execution_count": 33,
   "metadata": {},
   "outputs": [
    {
     "name": "stdout",
     "output_type": "stream",
     "text": [
      "['h', 'u', 'm', 'a', 'n']\n"
     ]
    }
   ],
   "source": [
    "#Example 1: Iterating through a string Using for Loop\n",
    "h_letters = []\n",
    "\n",
    "for letter in 'human':\n",
    "    h_letters.append(letter)\n",
    "\n",
    "print(h_letters)"
   ]
  },
  {
   "cell_type": "code",
   "execution_count": 35,
   "metadata": {},
   "outputs": [
    {
     "name": "stdout",
     "output_type": "stream",
     "text": [
      "['h', 'u', 'm', 'a', 'n']\n"
     ]
    }
   ],
   "source": [
    "# Example 2: Iterating through a string Using List Comprehension\n",
    "h_letters = [ letter for letter in 'human' ]\n",
    "print( h_letters)"
   ]
  },
  {
   "cell_type": "markdown",
   "metadata": {},
   "source": [
    "##### In the above example, a new list is assigned to variable h_letters, and list contains the items of the iterable string 'human'. We call print() function to receive the output."
   ]
  },
  {
   "cell_type": "markdown",
   "metadata": {},
   "source": [
    "# List Comprehensions vs Lambda functions\n",
    "#### List comprehensions aren’t the only way to work on lists. Various built-in functions and lambda functions can create and modify lists in less lines of code."
   ]
  },
  {
   "cell_type": "code",
   "execution_count": 71,
   "metadata": {},
   "outputs": [
    {
     "data": {
      "text/plain": [
       "['h', 'u', 'm', 'a', 'n']"
      ]
     },
     "execution_count": 71,
     "metadata": {},
     "output_type": "execute_result"
    }
   ],
   "source": [
    "a=map(lambda x: x, 'human')\n",
    "list(a)"
   ]
  },
  {
   "cell_type": "code",
   "execution_count": 36,
   "metadata": {},
   "outputs": [
    {
     "name": "stdout",
     "output_type": "stream",
     "text": [
      "['h', 'u', 'm', 'a', 'n']\n"
     ]
    }
   ],
   "source": [
    "# Example 3: Using Lambda functions inside List\n",
    "letters = list(map(lambda x: x, 'human'))\n",
    "print(letters)"
   ]
  },
  {
   "cell_type": "markdown",
   "metadata": {},
   "source": [
    "##### However, list comprehensions are usually more human readable than lambda functions. It is easier to understand what the programmer was trying to accomplish when list comprehensions are used."
   ]
  },
  {
   "cell_type": "markdown",
   "metadata": {},
   "source": [
    "# Conditionals in List Comprehension\n",
    "#### List comprehensions can utilize conditional statement to modify existing list (or other tuples). We will create list that uses mathematical operators, integers, and range().\n",
    "## Filtering a list\n",
    "####  Python lists can be filtered with the help of filter() function or with the help of list comprehension. Below is the syntax:\n",
    "#### My_list = list(filter(filter_function , iterable_item))\n",
    "#### The Filter function returns an iterator object which we must convert back into the list."
   ]
  },
  {
   "cell_type": "code",
   "execution_count": 45,
   "metadata": {},
   "outputs": [
    {
     "name": "stdout",
     "output_type": "stream",
     "text": [
      "[90, 24, 95, 36]\n"
     ]
    }
   ],
   "source": [
    "# filtering with the help of filer() function\n",
    "# creating a filter function filter all the values less than 20\n",
    "  \n",
    "# filter function\n",
    "def my_filter(n):\n",
    "    if n > 20:\n",
    "        return n\n",
    "  \n",
    "        \n",
    "# driver code\n",
    "if __name__ == \"__main__\":\n",
    "    my_list = [5, 2, 90, 24, 10, 2, 95, 36]\n",
    "    my_filtered_list = list(filter(my_filter, my_list))\n",
    "    print(my_filtered_list)"
   ]
  },
  {
   "cell_type": "markdown",
   "metadata": {},
   "source": [
    "#### We can also filter using list comprehension. It is a much easier and elegant way to filter lists, below is the syntax: \n",
    "#### My_list = [item for item in my_list if (condition)]"
   ]
  },
  {
   "cell_type": "code",
   "execution_count": 47,
   "metadata": {},
   "outputs": [
    {
     "name": "stdout",
     "output_type": "stream",
     "text": [
      "[90, 24, 95, 36]\n"
     ]
    }
   ],
   "source": [
    "# filtering with the help of list comprehension\n",
    "my_list = [5, 2, 90, 24, 10, 2, 95, 36]\n",
    "  \n",
    "# an elegant way to sort the list\n",
    "my_list = [item for item in my_list if item > 20]\n",
    "print(my_list)"
   ]
  },
  {
   "cell_type": "markdown",
   "metadata": {},
   "source": [
    "### Modifying list\n",
    "#### To modify the values in the list with the help of an external function, we make use of the map() function. Map() function returns a map object (iterator) of the results after applying the given function to each element of a given iterable(list, tuple etc.). Below is the syntax:\n",
    "\n",
    "#### My_list = list(map(function,iterable))"
   ]
  },
  {
   "cell_type": "code",
   "execution_count": 48,
   "metadata": {},
   "outputs": [
    {
     "name": "stdout",
     "output_type": "stream",
     "text": [
      "[25, 4, 8100, 576, 100, 4, 9025, 1296]\n"
     ]
    }
   ],
   "source": [
    "# using map() function to modify the text\n",
    "def squaring(n):\n",
    "    return n**2\n",
    "  \n",
    "# driver code\n",
    "if __name__ == \"__main__\":\n",
    "    my_list = [5, 2, 90, 24, 10, 2, 95, 36]\n",
    "  \n",
    "    my_squared_list = list(map(squaring, my_list))\n",
    "    print(my_squared_list)"
   ]
  },
  {
   "cell_type": "code",
   "execution_count": 50,
   "metadata": {},
   "outputs": [
    {
     "name": "stdout",
     "output_type": "stream",
     "text": [
      "[25, 4, 8100, 576, 100, 4, 9025, 1296]\n"
     ]
    }
   ],
   "source": [
    "# the same result can be obtained by a much pythonic approach\n",
    "# i.e., by using list comprehension\n",
    "my_list = [5, 2, 90, 24, 10, 2, 95, 36]\n",
    "  \n",
    "print([i**2 for i in my_list])"
   ]
  },
  {
   "cell_type": "code",
   "execution_count": 38,
   "metadata": {},
   "outputs": [
    {
     "name": "stdout",
     "output_type": "stream",
     "text": [
      "[0, 2, 4, 6, 8, 10, 12, 14, 16, 18]\n"
     ]
    }
   ],
   "source": [
    "# The list ,number_list, will be populated by the items in range from 0-19 if the item's value is divisible by 2.\n",
    "number_list = [ x for x in range(20) if x % 2 == 0]\n",
    "print(number_list)"
   ]
  },
  {
   "cell_type": "code",
   "execution_count": 39,
   "metadata": {},
   "outputs": [
    {
     "name": "stdout",
     "output_type": "stream",
     "text": [
      "[0, 10, 20, 30, 40, 50, 60, 70, 80, 90]\n"
     ]
    }
   ],
   "source": [
    "# Example 5: Nested IF with List Comprehension\n",
    "num_list = [y for y in range(100) if y % 2 == 0 if y % 5 == 0]\n",
    "print(num_list)"
   ]
  },
  {
   "cell_type": "markdown",
   "metadata": {},
   "source": [
    "#### Here, list comprehension checks:\n",
    "\n",
    "#### Is y divisible by 2 or not?\n",
    "#### Is y divisible by 5 or not?\n",
    "#### If y satisfies both conditions, y is appended to num_list."
   ]
  },
  {
   "cell_type": "code",
   "execution_count": 40,
   "metadata": {},
   "outputs": [
    {
     "name": "stdout",
     "output_type": "stream",
     "text": [
      "['Even', 'Odd', 'Even', 'Odd', 'Even', 'Odd', 'Even', 'Odd', 'Even', 'Odd']\n"
     ]
    }
   ],
   "source": [
    "#Example 6: if...else With List Comprehension\n",
    "obj = [\"Even\" if i%2==0 else \"Odd\" for i in range(10)]\n",
    "print(obj)"
   ]
  },
  {
   "cell_type": "markdown",
   "metadata": {},
   "source": [
    "#### Here, list comprehension will check the 10 numbers from 0 to 9. If i is divisible by 2, then Even is appended to the obj list. If not, Odd is appended."
   ]
  },
  {
   "cell_type": "markdown",
   "metadata": {},
   "source": [
    "# Nested Loops in List Comprehension\n",
    "#### Suppose, we need to compute the transpose of a matrix that requires nested for loop. Let’s see how it is done using normal for loop first."
   ]
  },
  {
   "cell_type": "code",
   "execution_count": 72,
   "metadata": {
    "scrolled": true
   },
   "outputs": [
    {
     "name": "stdout",
     "output_type": "stream",
     "text": [
      "0\n",
      "[1, 2, 3, 4]\n",
      "[1]\n",
      "[4, 5, 6, 8]\n",
      "[1, 4]\n",
      "[[1, 4]]\n",
      "1\n",
      "[1, 2, 3, 4]\n",
      "[2]\n",
      "[4, 5, 6, 8]\n",
      "[2, 5]\n",
      "[[1, 4], [2, 5]]\n",
      "2\n",
      "[1, 2, 3, 4]\n",
      "[3]\n",
      "[4, 5, 6, 8]\n",
      "[3, 6]\n",
      "[[1, 4], [2, 5], [3, 6]]\n",
      "3\n",
      "[1, 2, 3, 4]\n",
      "[4]\n",
      "[4, 5, 6, 8]\n",
      "[4, 8]\n",
      "[[1, 4], [2, 5], [3, 6], [4, 8]]\n",
      "[[1, 4], [2, 5], [3, 6], [4, 8]]\n"
     ]
    }
   ],
   "source": [
    "# Example 7: Transpose of Matrix using Nested Loops\n",
    "transposed = []\n",
    "matrix = [[1, 2, 3, 4], [4, 5, 6, 8]]\n",
    "\n",
    "for i in range(len(matrix[0])):\n",
    "    print(i)\n",
    "    transposed_row = []\n",
    "\n",
    "    for row in matrix:\n",
    "        print(row)\n",
    "        transposed_row.append(row[i])\n",
    "        print(transposed_row)\n",
    "        \n",
    "    transposed.append(transposed_row)\n",
    "    print(transposed)\n",
    "\n",
    "print(transposed)"
   ]
  },
  {
   "cell_type": "code",
   "execution_count": null,
   "metadata": {},
   "outputs": [],
   "source": []
  },
  {
   "cell_type": "code",
   "execution_count": 42,
   "metadata": {},
   "outputs": [
    {
     "name": "stdout",
     "output_type": "stream",
     "text": [
      "[[1, 3, 5, 7], [2, 4, 6, 8]]\n"
     ]
    }
   ],
   "source": [
    "# Example 8: Transpose of a Matrix using List Comprehension\n",
    "matrix = [[1, 2], [3,4], [5,6], [7,8]]\n",
    "transpose = [[row[i] for row in matrix] for i in range(2)]\n",
    "print (transpose)"
   ]
  },
  {
   "cell_type": "code",
   "execution_count": 43,
   "metadata": {},
   "outputs": [],
   "source": [
    "# Key Points to Remember\n",
    "# List comprehension is an elegant way to define and create lists based on existing lists.\n",
    "# List comprehension is generally more compact and faster than normal functions and loops for creating list.\n",
    "# However, we should avoid writing very long list comprehensions in one line to ensure that code is user-friendly.\n",
    "# Remember, every list comprehension can be rewritten in for loop, but every for loop can’t be rewritten in the form of list comprehension."
   ]
  },
  {
   "cell_type": "markdown",
   "metadata": {},
   "source": [
    "# 10) Combining lists  \n",
    "#### The zip method is used to combine multiple lists in Python into tuples. "
   ]
  },
  {
   "cell_type": "code",
   "execution_count": 53,
   "metadata": {},
   "outputs": [
    {
     "name": "stdout",
     "output_type": "stream",
     "text": [
      "('John', 'Wick')\n",
      "('Jeff', 'Chen')\n",
      "('Chris', 'Test')\n"
     ]
    }
   ],
   "source": [
    "# Example 1-If the two lists are not the same length, \n",
    "#           then the longer of the two lists would be truncated to the length of the shorter.\n",
    "first_names = ['John', 'Jeff', 'Chris']\n",
    "last_names = ['Wick', 'Chen', 'Test', 'Truncated']\n",
    "names = zip(first_names, last_names)\n",
    "for name in names:\n",
    "    print(name)\n"
   ]
  },
  {
   "cell_type": "markdown",
   "metadata": {},
   "source": [
    "# 11) Finding the most common item\n",
    "#### To find the most frequent element we make use of the set() function. The set() function removes all the duplicates from the list, and the max() function returns the most frequent element (which is found with the help of ‘key’). The key is an optional single argument function. Below is the syntax:\n",
    "#### Most_frequent_value =max(set(my_list),key=mylist.count)"
   ]
  },
  {
   "cell_type": "code",
   "execution_count": 59,
   "metadata": {},
   "outputs": [
    {
     "name": "stdout",
     "output_type": "stream",
     "text": [
      "The most common element is: a\n"
     ]
    }
   ],
   "source": [
    "\n",
    "# to find the most frequent element from the list\n",
    "my_list = ['a', 'a', 'a', 'b', 'c', 'd', 'd', 'e']\n",
    "  \n",
    "most_frequent_val = max(set(my_list), key=my_list.count)\n",
    "print(\"The most common element is:\", most_frequent_val)"
   ]
  },
  {
   "cell_type": "markdown",
   "metadata": {},
   "source": [
    "# 12) Checking for membership in a list\n",
    "#### To check whether an item exists in a list, we use the in statement"
   ]
  },
  {
   "cell_type": "code",
   "execution_count": 60,
   "metadata": {},
   "outputs": [
    {
     "name": "stdout",
     "output_type": "stream",
     "text": [
      "True\n",
      "False\n"
     ]
    }
   ],
   "source": [
    "my_list = ['a', 'a', 'a', 'b', 'c', 'd', 'd', 'e']\n",
    "  \n",
    "# to check whether 'c' is a member of my_list\n",
    "# returns true if present\n",
    "print('c' in my_list)  \n",
    "  \n",
    "# to check whether 'f' is a member of my_list\n",
    "# returns false if not present\n",
    "print('f' in my_list)"
   ]
  },
  {
   "cell_type": "markdown",
   "metadata": {},
   "source": [
    "# 13) Flatten a list of lists\n",
    "#### Sometimes we encounter a list where each element in itself is a list. To convert a list of lists into a single list, we use list comprehension.\n",
    "#### my_list = [item  for List in list_of_lists for item in List ]"
   ]
  },
  {
   "cell_type": "code",
   "execution_count": 64,
   "metadata": {},
   "outputs": [
    {
     "name": "stdout",
     "output_type": "stream",
     "text": [
      "[1, 2, 3, 4, 5, 6, 7, 8]\n"
     ]
    }
   ],
   "source": [
    "# to flatten a list_of_lists by using list comprehension\n",
    "list_of_lists = [[1, 2],\n",
    "                 [3, 4],\n",
    "                 [5, 6],\n",
    "                 [7, 8]]\n",
    "  \n",
    "# using list comprehension\n",
    "my_list = [item for List in list_of_lists for item in List]\n",
    "print(my_list)"
   ]
  },
  {
   "cell_type": "markdown",
   "metadata": {},
   "source": [
    "# Vectorization in python"
   ]
  },
  {
   "cell_type": "markdown",
   "metadata": {},
   "source": [
    "#### https://www.geeksforgeeks.org/vectorization-in-python/#:~:text=What%20is%20Vectorization%20%3F,running%20time%20of%20code%20efficiently.\n",
    "\n",
    "#### https://www.youtube.com/watch?v=BR3Qx9AVHZE"
   ]
  },
  {
   "cell_type": "code",
   "execution_count": null,
   "metadata": {},
   "outputs": [],
   "source": []
  }
 ],
 "metadata": {
  "kernelspec": {
   "display_name": "Python 3",
   "language": "python",
   "name": "python3"
  },
  "language_info": {
   "codemirror_mode": {
    "name": "ipython",
    "version": 3
   },
   "file_extension": ".py",
   "mimetype": "text/x-python",
   "name": "python",
   "nbconvert_exporter": "python",
   "pygments_lexer": "ipython3",
   "version": "3.8.3"
  }
 },
 "nbformat": 4,
 "nbformat_minor": 4
}
