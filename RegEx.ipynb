{
 "cells": [
  {
   "cell_type": "markdown",
   "metadata": {},
   "source": [
    "# RegEx-Regular Expressions"
   ]
  },
  {
   "cell_type": "markdown",
   "metadata": {},
   "source": [
    "#### A Regular Expression (RegEx) is a sequence of characters that defines a search pattern. For example,\n",
    " ^a...s$\n"
   ]
  },
  {
   "cell_type": "markdown",
   "metadata": {},
   "source": [
    "##### The above code defines a RegEx pattern. The pattern is: any five letter string starting with a and ending with s\n",
    "#### A pattern defined using RegEx can be used to match against a string.\n"
   ]
  },
  {
   "cell_type": "markdown",
   "metadata": {},
   "source": [
    "|Expression|\tString|\tMatched?|\n",
    "|----------|----------|---------|\n",
    "|^a...s$   | abs\t  | No match|\n",
    "|          | alias    | Match   |\n",
    "|          | abyss\t  | Match   |\n",
    "|          | Alias\t  | No match|\n",
    "|          | An abacus| No match|"
   ]
  },
  {
   "cell_type": "code",
   "execution_count": 55,
   "metadata": {},
   "outputs": [],
   "source": [
    "# Python has a module named re to work with RegEx\n",
    "import re"
   ]
  },
  {
   "cell_type": "markdown",
   "metadata": {},
   "source": [
    "### RegEx Functions\n",
    "#### The re module offers a set of functions that allows us to search a string for a match:\n",
    "\n",
    "|Function| Description |\n",
    "|--------|-------------|\n",
    "|findall |\tReturns a list containing all matches|\n",
    "| search |\tReturns a Match object if there is a match anywhere in the string |\n",
    "| split\t |  Returns a list where the string has been split at each match|\n",
    "| sub\t |  Replaces one or many matches with a string|"
   ]
  },
  {
   "cell_type": "code",
   "execution_count": 28,
   "metadata": {},
   "outputs": [
    {
     "name": "stdout",
     "output_type": "stream",
     "text": [
      "None\n",
      "Search unsuccessful.\n"
     ]
    }
   ],
   "source": [
    "import re\n",
    "\n",
    "pattern = '^a...s$'   #To specify regular expressions, metacharacters are used. In the above example, ^ and $ are metacharacters.\n",
    "test_string = 'abysaaas'\n",
    "result = re.match(pattern, test_string)\n",
    "print(result)\n",
    "if result:\n",
    "    print(\"Search successful.\")\n",
    "else:\n",
    "    print(\"Search unsuccessful.\")\n"
   ]
  },
  {
   "cell_type": "markdown",
   "metadata": {},
   "source": [
    "#### MetaCharacters\n",
    "Metacharacters are characters that are interpreted in a special way by a RegEx engine. Here's a list of metacharacters:\n"
   ]
  },
  {
   "cell_type": "markdown",
   "metadata": {},
   "source": [
    "|Character|Description\t| Example |\n",
    "|---------|-------------|---------|\n",
    "|[]\t|A set of characters|\"[a-m]\"|\t\n",
    "|\\\t|Signals a special sequence (can also be used to escape special characters)\t| \"\\d\"\t|\n",
    "|.\t|Any character (except newline character)\t|\"he..o\"\t|\n",
    "|^\t|Starts with\t|\"^hello\"\t|\n",
    "|*\t|Zero or more occurrences|\"aix*\"\t|\n",
    "|+\t|One or more occurrences|\"aix+\"\t|\n",
    "|{}\t|Exactly the specified number of occurrences\t|\"al{2}\"\t|\n",
    "|()\t|Capture and group|  |\n"
   ]
  },
  {
   "cell_type": "markdown",
   "metadata": {},
   "source": [
    "|$\t|Ends with      |\"world$\" |\n",
    "||\t|Either or\t|\"falls|stays\"\t|\n"
   ]
  },
  {
   "cell_type": "markdown",
   "metadata": {},
   "source": [
    "### [ ] - Square brackets"
   ]
  },
  {
   "cell_type": "markdown",
   "metadata": {},
   "source": [
    "#### Square brackets specifies a set of characters you wish to match\n",
    "| Expression |\tString | Matched?|\n",
    "|------------|---------|---------|\n",
    "| [abc]      | \ta\t   |1 match  |\n",
    "|            |  ac     |2 matches|\n",
    "|            | Hey Jude|No match |\n",
    "|            |abc de ca|5 matches|"
   ]
  },
  {
   "cell_type": "code",
   "execution_count": 57,
   "metadata": {},
   "outputs": [
    {
     "name": "stdout",
     "output_type": "stream",
     "text": [
      "['a', 'a', 'a']\n"
     ]
    }
   ],
   "source": [
    "import re\n",
    "\n",
    "txt = \"The rain in Spain and Newyork\"\n",
    "#Find all lower case characters alphabet a ,b or c:\n",
    "x = re.findall(\"[abc]\", txt)\n",
    "print(x)"
   ]
  },
  {
   "cell_type": "code",
   "execution_count": 58,
   "metadata": {},
   "outputs": [
    {
     "name": "stdout",
     "output_type": "stream",
     "text": [
      "['T', 'h', 'e', ' ', 'r', 'i', 'n', ' ', 'i', 'n', ' ', 'S', 'p', 'i', 'n', ' ', 'n', 'd', ' ', 'N', 'e', 'w', 'y', 'o', 'r', 'k']\n"
     ]
    }
   ],
   "source": [
    "txt = \"The rain in Spain and Newyork\"\n",
    "#You can complement (invert) the character set by using caret ^ symbol at the start of a square-bracket.\n",
    "x = re.findall(\"[^abc]\", txt)\n",
    "print(x)"
   ]
  },
  {
   "cell_type": "code",
   "execution_count": null,
   "metadata": {},
   "outputs": [],
   "source": [
    "# You can also specify a range of characters using - inside square brackets.\n",
    "\n",
    "# [a-e] is the same as [abcde].\n",
    "# [1-4] is the same as [1234].\n",
    "# [0-39] is the same as [01239]"
   ]
  },
  {
   "cell_type": "markdown",
   "metadata": {},
   "source": [
    "### . - Period\n",
    "#### A period matches any single character (except newline '\\n')"
   ]
  },
  {
   "cell_type": "markdown",
   "metadata": {},
   "source": [
    "|Expression|String|Matched?|\n",
    "|----------|------|--------|\n",
    "|    ..    |a\t  |No match|\n",
    "|          |ac\t  |1 match |\n",
    "|          |acd   |\t1 match|\n",
    "|          |acde  |2matches|"
   ]
  },
  {
   "cell_type": "code",
   "execution_count": 59,
   "metadata": {},
   "outputs": [
    {
     "name": "stdout",
     "output_type": "stream",
     "text": [
      "['hello']\n"
     ]
    }
   ],
   "source": [
    "import re\n",
    "\n",
    "txt = \"hello world\"\n",
    "\n",
    "#Search for a sequence that starts with \"he\", followed by two (any) characters, and an \"o\":\n",
    "\n",
    "x = re.findall(\"he..o\", txt)\n",
    "print(x)\n"
   ]
  },
  {
   "cell_type": "markdown",
   "metadata": {},
   "source": [
    "#### ^ - Caret\n",
    "\n",
    "The caret symbol ^ is used to check if a string starts with a certain character.\n"
   ]
  },
  {
   "cell_type": "markdown",
   "metadata": {},
   "source": [
    "|Expression|\tString|\tMatched?|\n",
    "|----------|----------|---------|\n",
    "|^a\t|a|\t1 match|\n",
    "||abc|\t1 match|\n",
    "||bac|\tNo match|\n",
    "|^ab|\tabc|\t1 match|\n",
    "||acb\t|No match |"
   ]
  },
  {
   "cell_type": "markdown",
   "metadata": {},
   "source": [
    "#### $ - Dollar\n",
    "\n",
    "The dollar symbol $ is used to check if a string ends with a certain character.\n",
    "\n",
    "|Expression|\tString|\tMatched?|\n",
    "|----------|----------|---------|\n",
    "|a$\t|a\t|1 match|\n",
    "||formula\t|1 match|\n",
    "||cab\t|No match|"
   ]
  },
  {
   "cell_type": "markdown",
   "metadata": {},
   "source": [
    "#### * - Star\n",
    "\n",
    "The star symbol * matches zero or more occurrences of the pattern left to it.\n",
    "\n",
    "|Expression|\tString|\tMatched?|\n",
    "|----------|----------|---------|\n",
    "|ma*n|\tmn\t|1 match|\n",
    "||man\t|1 match|\n",
    "||maaan|\t1 match|\n",
    "||main\t|No match |\n",
    "||woman|\t1 match|"
   ]
  },
  {
   "cell_type": "markdown",
   "metadata": {},
   "source": [
    "#### + - Plus\n",
    "\n",
    "The plus symbol + matches one or more occurrences of the pattern left to it.\n",
    "\n",
    "|Expression|\tString|\tMatched?|\n",
    "|----------|----------|---------|\n",
    "|ma+n\t|mn\t|No match|\n",
    "||man\t|1 match|\n",
    "||maaan|\t1 match|\n",
    "||main\t|No match |\n",
    "||woman|\t1 match|"
   ]
  },
  {
   "cell_type": "markdown",
   "metadata": {},
   "source": [
    "#### ? - Question Mark\n",
    "\n",
    "The question mark symbol ? matches zero or one occurrence of the pattern left to it.\n",
    "\n",
    "|Expression|\tString|\tMatched?|\n",
    "|----------|----------|---------|\n",
    "|ma?n|\tmn\t|1 match|\n",
    "||man\t|1 match|\n",
    "||maaan|\tNo match |\n",
    "||main\t|No match |\n",
    "||woman\t|1 match|"
   ]
  },
  {
   "cell_type": "markdown",
   "metadata": {},
   "source": [
    "#### {} - Braces\n",
    "\n",
    "Consider this code: {n,m}. This means at least n, and at most m repetitions of the pattern left to it.\n",
    "\n",
    "|Expression|\tString|\tMatched?|\n",
    "|----------|----------|---------|\n",
    "|a{2,3}\t|abc dat\t|No match|\n",
    "||abc daat|\t1 match (at daat)|\n",
    "||aabc daaat|\t2 matches (at aabc and daaat)|\n",
    "||aabc daaaat\t|2 matches (at aabc and daaaat)|"
   ]
  },
  {
   "cell_type": "markdown",
   "metadata": {},
   "source": [
    " Let's try one more example. This RegEx [0-9]{2, 4} matches at least 2 digits but not more than 4 digits\n",
    "\n",
    "|Expression|\tString|\tMatched?|\n",
    "|----------|----------|---------|\n",
    "|[0-9]{2,4}|\tab123csde\t|1 match (match at ab123csde)|\n",
    "||12 and 345673|\t3 matches (12, 3456, 73)|\n",
    "||1 and 2|\tNo match|"
   ]
  },
  {
   "cell_type": "code",
   "execution_count": null,
   "metadata": {},
   "outputs": [],
   "source": [
    "#  | - Alternation\n",
    "# Vertical bar | is used for alternation (or operator).\n",
    "\n",
    "# |Expression|\tString|\tMatched?|\n",
    "# |----------|----------|---------|\n",
    "# |a|b\t|cde\t|No match||\n",
    "# ||ade\t|1 match (match at ade)|\n",
    "# ||acdbea|\t3 matches (at acdbea)|\n",
    "\n",
    "# Here, a|b match any string that contains either a or b"
   ]
  },
  {
   "cell_type": "code",
   "execution_count": null,
   "metadata": {},
   "outputs": [],
   "source": [
    "# #### () - Group\n",
    "\n",
    "# Parentheses () is used to group sub-patterns. For example, (a|b|c)xz match any string that matches either a or b or c followed by xz\n",
    "\n",
    "# |Expression|\tString|\tMatched?|\n",
    "# |----------|----------|---------|\n",
    "# |(a|b|c)xz |\tab xz |\tNo match|\n",
    "# |          |abxz      |\t1 match (match at abxz)|\n",
    "# |          |axz cabxz |2 matches (at axzbc cabxz)|"
   ]
  },
  {
   "cell_type": "markdown",
   "metadata": {},
   "source": [
    "### Special Sequences\n",
    "\n",
    "Special sequences make commonly used patterns easier to write. Here's a list of special sequences:"
   ]
  },
  {
   "cell_type": "markdown",
   "metadata": {},
   "source": [
    "|Character|Description|Example|\n",
    "|---------|-----------|-------|\n",
    "|\\A\t|Returns a match if the specified characters are at the beginning of the string|\t\"\\AThe\"\t|\n",
    "|\\b|\tReturns a match where the specified characters are at the beginning or at the end of a word||r\"\\bain\"|\n",
    "||(the \"r\" in the beginning is making sure that the string is being treated as a \"raw string\")\t|r\"ain\\b\"|\t\n",
    "|\\B|\tReturns a match where the specified characters are present, but NOT at the beginning (or at the end) of a word|r\"\\Bain\"\n",
    "||(the \"r\" in the beginning is making sure that the string is being treated as a \"raw string\")|r\"ain\\B\"\t|\n",
    "|\\d\t|Returns a match where the string contains digits (numbers from 0-9)\t|\"\\d\"\t|\n",
    "|\\D\t|Returns a match where the string DOES NOT contain digits|\t\"\\D\"|\t\n",
    "|\\s|\tReturns a match where the string contains a white space character\t|\"\\s\"\t|\n",
    "|\\S|\tReturns a match where the string DOES NOT contain a white space character\t|\"\\S\"\t|\n",
    "|\\w\t|Returns a match where the string contains any word characters (characters from a to Z, digits from 0-9, and the underscore _ character)|\t\"\\w\"\t|\n",
    "|\\W\t|Returns a match where the string DOES NOT contain any word characters|\t\"\\W\"\t|\n",
    "|\\Z\t|Returns a match if the specified characters are at the end of the string\t|\"Spain\\Z\"|"
   ]
  },
  {
   "cell_type": "markdown",
   "metadata": {},
   "source": [
    "####  Example 1: re.findall()"
   ]
  },
  {
   "cell_type": "code",
   "execution_count": 62,
   "metadata": {},
   "outputs": [
    {
     "name": "stdout",
     "output_type": "stream",
     "text": [
      "['12', '89', '34']\n"
     ]
    }
   ],
   "source": [
    "\n",
    "\n",
    "# Program to extract numbers from a string\n",
    "\n",
    "import re\n",
    "\n",
    "string = 'hello 12 hi 89. Howdy 34'\n",
    "pattern = '\\d+'\n",
    "\n",
    "result = re.findall(pattern, string) \n",
    "print(result)\n",
    "\n",
    "# Output: ['12', '89', '34']"
   ]
  },
  {
   "cell_type": "markdown",
   "metadata": {},
   "source": [
    "#### Example 2: re.split()"
   ]
  },
  {
   "cell_type": "code",
   "execution_count": 63,
   "metadata": {},
   "outputs": [
    {
     "name": "stdout",
     "output_type": "stream",
     "text": [
      "['Twelve:', ' Eighty nine:', '.']\n"
     ]
    }
   ],
   "source": [
    "import re\n",
    "\n",
    "string = 'Twelve:12 Eighty nine:89.'\n",
    "pattern = '\\d+'\n",
    "\n",
    "result = re.split(pattern, string) \n",
    "print(result)\n",
    "\n",
    "# Output: ['Twelve:', ' Eighty nine:', '.']"
   ]
  },
  {
   "cell_type": "code",
   "execution_count": 64,
   "metadata": {},
   "outputs": [
    {
     "name": "stdout",
     "output_type": "stream",
     "text": [
      "['Twelve:', ' Eighty nine:89 Nine:9.']\n"
     ]
    }
   ],
   "source": [
    "string = 'Twelve:12 Eighty nine:89 Nine:9.'\n",
    "pattern = '\\d+'\n",
    "\n",
    "# maxsplit = 1\n",
    "# split only at the first occurrence\n",
    "result = re.split(pattern, string, 1) \n",
    "print(result)\n",
    "\n",
    "# Output: ['Twelve:', ' Eighty nine:89 Nine:9.']"
   ]
  },
  {
   "cell_type": "markdown",
   "metadata": {},
   "source": [
    "#### Example 3: re.sub()\n"
   ]
  },
  {
   "cell_type": "code",
   "execution_count": 65,
   "metadata": {},
   "outputs": [
    {
     "name": "stdout",
     "output_type": "stream",
     "text": [
      "abc12de23f456\n"
     ]
    }
   ],
   "source": [
    "\n",
    "# Program to remove all whitespaces\n",
    "import re\n",
    "\n",
    "# multiline string\n",
    "string = 'abc 12\\\n",
    "de 23 \\n f45 6'\n",
    "\n",
    "# matches all whitespace characters\n",
    "pattern = '\\s+'\n",
    "\n",
    "# empty string\n",
    "replace = ''\n",
    "\n",
    "new_string = re.sub(pattern, replace, string) \n",
    "print(new_string)\n",
    "\n",
    "# Output: abc12de23f456"
   ]
  },
  {
   "cell_type": "code",
   "execution_count": 66,
   "metadata": {},
   "outputs": [
    {
     "name": "stdout",
     "output_type": "stream",
     "text": [
      "abc12de 23 \n",
      " f45 6\n"
     ]
    }
   ],
   "source": [
    "\n",
    "import re\n",
    "\n",
    "# multiline string\n",
    "string = 'abc 12\\\n",
    "de 23 \\n f45 6'\n",
    "\n",
    "# matches all whitespace characters\n",
    "pattern = '\\s+'\n",
    "replace = ''\n",
    "\n",
    "new_string = re.sub(r'\\s+', replace, string, 1) \n",
    "print(new_string)\n",
    "\n",
    "# Output:\n",
    "# abc12de 23\n",
    "# f45 6"
   ]
  },
  {
   "cell_type": "markdown",
   "metadata": {},
   "source": [
    "#### Example 4: re.subn()"
   ]
  },
  {
   "cell_type": "code",
   "execution_count": 67,
   "metadata": {},
   "outputs": [
    {
     "name": "stdout",
     "output_type": "stream",
     "text": [
      "('abc12de23f456', 4)\n"
     ]
    }
   ],
   "source": [
    "# Program to remove all whitespaces\n",
    "import re\n",
    "\n",
    "# multiline string\n",
    "string = 'abc 12\\\n",
    "de 23 \\n f45 6'\n",
    "\n",
    "# matches all whitespace characters\n",
    "pattern = '\\s+'\n",
    "\n",
    "# empty string\n",
    "replace = ''\n",
    "\n",
    "new_string = re.subn(pattern, replace, string) \n",
    "print(new_string)\n",
    "\n",
    "# Output: ('abc12de23f456', 4)"
   ]
  },
  {
   "cell_type": "markdown",
   "metadata": {},
   "source": [
    "#### Example 5: re.search()"
   ]
  },
  {
   "cell_type": "code",
   "execution_count": 69,
   "metadata": {},
   "outputs": [
    {
     "name": "stdout",
     "output_type": "stream",
     "text": [
      "pattern found inside the string\n"
     ]
    }
   ],
   "source": [
    "import re\n",
    "\n",
    "string = \"Python is fun\"\n",
    "\n",
    "# check if 'Python' is at the beginning\n",
    "match = re.search('\\APython', string)\n",
    "\n",
    "if match:\n",
    "    print(\"pattern found inside the string\")\n",
    "else:\n",
    "    print(\"pattern not found\")  \n",
    "\n",
    "# Output: pattern found inside the string"
   ]
  },
  {
   "cell_type": "markdown",
   "metadata": {},
   "source": [
    "### Match object\n",
    "You can get methods and attributes of a match object using dir() function.\n",
    "\n",
    "Some of the commonly used methods and attributes of match objects are:"
   ]
  },
  {
   "cell_type": "markdown",
   "metadata": {},
   "source": [
    "#### Example 6: Match object\n"
   ]
  },
  {
   "cell_type": "code",
   "execution_count": 71,
   "metadata": {},
   "outputs": [
    {
     "name": "stdout",
     "output_type": "stream",
     "text": [
      "801 35\n"
     ]
    }
   ],
   "source": [
    "import re\n",
    "\n",
    "string = '39801 356, 2102 1111'\n",
    "\n",
    "# Three digit number followed by space followed by two digit number\n",
    "pattern = '(\\d{3}) (\\d{2})'\n",
    "\n",
    "# match variable contains a Match object.\n",
    "match = re.search(pattern, string) \n",
    "\n",
    "if match:\n",
    "    print(match.group())\n",
    "else:\n",
    "    print(\"pattern not found\")\n",
    "\n",
    "# Output: 801 35"
   ]
  },
  {
   "cell_type": "code",
   "execution_count": 75,
   "metadata": {},
   "outputs": [
    {
     "name": "stdout",
     "output_type": "stream",
     "text": [
      "801\n",
      "35\n",
      "('801', '35')\n",
      "('801', '35')\n"
     ]
    }
   ],
   "source": [
    "print(match.group(1))\n",
    "print(match.group(2))\n",
    "print(match.group(1, 2))\n",
    "print(match.groups())"
   ]
  },
  {
   "cell_type": "code",
   "execution_count": 77,
   "metadata": {},
   "outputs": [
    {
     "name": "stdout",
     "output_type": "stream",
     "text": [
      "2\n",
      "8\n",
      "(2, 8)\n"
     ]
    }
   ],
   "source": [
    "print(match.start())\n",
    "print(match.end())\n",
    "print(match.span())"
   ]
  },
  {
   "cell_type": "markdown",
   "metadata": {},
   "source": [
    "match.re and match.string.\n",
    "The re attribute of a matched object returns a regular expression object. Similarly, string attribute returns the passed string"
   ]
  },
  {
   "cell_type": "code",
   "execution_count": 78,
   "metadata": {},
   "outputs": [
    {
     "name": "stdout",
     "output_type": "stream",
     "text": [
      "re.compile('(\\\\d{3}) (\\\\d{2})')\n"
     ]
    }
   ],
   "source": [
    "print(match.re)"
   ]
  },
  {
   "cell_type": "code",
   "execution_count": 79,
   "metadata": {},
   "outputs": [
    {
     "name": "stdout",
     "output_type": "stream",
     "text": [
      "39801 356, 2102 1111\n"
     ]
    }
   ],
   "source": [
    "print(match.string)"
   ]
  },
  {
   "cell_type": "markdown",
   "metadata": {},
   "source": [
    "#### Example 7: Raw string using r prefix"
   ]
  },
  {
   "cell_type": "code",
   "execution_count": 81,
   "metadata": {},
   "outputs": [
    {
     "name": "stdout",
     "output_type": "stream",
     "text": [
      "['\\n', '\\r']\n"
     ]
    }
   ],
   "source": [
    "import re\n",
    "\n",
    "string = '\\n and \\r are escape sequences.'\n",
    "\n",
    "result = re.findall(r'[\\n\\r]', string) \n",
    "print(result)\n",
    "\n",
    "# Output: ['\\n', '\\r']"
   ]
  },
  {
   "cell_type": "markdown",
   "metadata": {},
   "source": [
    "#### Important Links :\n",
    "#### https://www.programiz.com/python-programming/regex\n",
    "#### https://www.w3schools.com/python/python_regex.asp\n",
    "#### https://regex101.com/"
   ]
  },
  {
   "cell_type": "code",
   "execution_count": null,
   "metadata": {},
   "outputs": [],
   "source": []
  }
 ],
 "metadata": {
  "kernelspec": {
   "display_name": "Python 3",
   "language": "python",
   "name": "python3"
  },
  "language_info": {
   "codemirror_mode": {
    "name": "ipython",
    "version": 3
   },
   "file_extension": ".py",
   "mimetype": "text/x-python",
   "name": "python",
   "nbconvert_exporter": "python",
   "pygments_lexer": "ipython3",
   "version": "3.8.3"
  }
 },
 "nbformat": 4,
 "nbformat_minor": 4
}
